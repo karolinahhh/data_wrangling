{
 "cells": [
  {
   "cell_type": "markdown",
   "id": "a252777b-eb45-488e-91a3-8e0051eae0dd",
   "metadata": {},
   "source": [
    "# Project group 30"
   ]
  },
  {
   "cell_type": "code",
   "execution_count": 1,
   "id": "33d0fd4b-2275-4431-b29c-89452c7ad2a0",
   "metadata": {},
   "outputs": [],
   "source": [
    "import numpy as np\n",
    "import pandas as pd\n",
    "pd.options.display.max_rows = 20\n",
    "np.set_printoptions(precision = 4, suppress = True)"
   ]
  },
  {
   "cell_type": "code",
   "execution_count": 2,
   "id": "b5149938-9670-4552-a341-069dfe6e7ec8",
   "metadata": {},
   "outputs": [],
   "source": [
    "#pip install pycountry_convert\n",
    "from pycountry_convert import country_name_to_country_alpha2"
   ]
  },
  {
   "cell_type": "code",
   "execution_count": 3,
   "id": "ce6af863-5dae-448d-987f-8a59b73556fe",
   "metadata": {},
   "outputs": [],
   "source": [
    "population = 'population.csv'\n",
    "df_population= pd.read_csv(population)\n",
    "medals = 'medals.csv'\n",
    "df_medals= pd.read_csv(medals)\n",
    "cpi = 'cpi.csv'\n",
    "df_cpi= pd.read_csv(cpi)\n",
    "\n",
    "#df_population"
   ]
  },
  {
   "cell_type": "code",
   "execution_count": 4,
   "id": "7a980e99-3d45-4fe3-9aab-6283f04327d4",
   "metadata": {},
   "outputs": [
    {
     "name": "stderr",
     "output_type": "stream",
     "text": [
      "/opt/anaconda3/lib/python3.9/site-packages/fuzzywuzzy/fuzz.py:11: UserWarning: Using slow pure-python SequenceMatcher. Install python-Levenshtein to remove this warning\n",
      "  warnings.warn('Using slow pure-python SequenceMatcher. Install python-Levenshtein to remove this warning')\n"
     ]
    },
    {
     "name": "stdout",
     "output_type": "stream",
     "text": [
      "['United States of America', \"People's Republic of China\", 'Japan', 'Great Britain', 'ROC', 'Australia', 'Netherlands', 'France', 'Germany', 'Italy', 'Canada', 'Brazil', 'New Zealand', 'Cuba', 'Hungary', 'Republic of Korea', 'Poland', 'Czech Republic', 'Kenya', 'Norway', 'Jamaica', 'Spain', 'Sweden', 'Switzerland', 'Denmark', 'Croatia', 'Islamic Republic of Iran', 'Serbia', 'Belgium', 'Bulgaria', 'Slovenia', 'Uzbekistan', 'Georgia', 'Chinese Taipei', 'Turkey', 'Greece', 'Uganda', 'Ecuador', 'Ireland', 'Israel', 'Qatar', 'Bahamas', 'Kosovo', 'Ukraine', 'Belarus', 'Romania', 'Venezuela', 'India', 'Hong Kong, China', 'Philippines', 'Slovakia', 'South Africa', 'Austria', 'Egypt', 'Indonesia', 'Ethiopia', 'Portugal', 'Tunisia', 'Estonia', 'Fiji', 'Latvia', 'Thailand', 'Bermuda', 'Morocco', 'Puerto Rico', 'Colombia', 'Azerbaijan', 'Dominican Republic', 'Armenia', 'Kyrgyzstan', 'Mongolia', 'Argentina', 'San Marino', 'Jordan', 'Malaysia', 'Nigeria', 'Bahrain', 'Saudi Arabia', 'Lithuania', 'North Macedonia', 'Namibia', 'Turkmenistan', 'Kazakhstan', 'Mexico', 'Finland', 'Botswana', 'Burkina Faso', \"Côte d'Ivoire\", 'Ghana', 'Grenada', 'Kuwait', 'Republic of Moldova', 'Syrian Arab Republic']\n",
      "a\n",
      "('Eritrea', 60)\n",
      "kk\n",
      "a\n",
      "('Morocco', 60)\n",
      "kk\n",
      "a\n",
      "('Korea, Republic of', 100)\n",
      "kk\n",
      "Korea, Republic of\n",
      "a\n",
      "('China', 53)\n",
      "kk\n",
      "a\n",
      "('Lesotho', 46)\n",
      "kk\n",
      "a\n",
      "('Hong Kong', 75)\n",
      "kk\n",
      "Hong Kong\n"
     ]
    },
    {
     "data": {
      "text/plain": [
       "0      USA\n",
       "1      CHN\n",
       "2      JPN\n",
       "3     None\n",
       "4     None\n",
       "      ... \n",
       "88     GHA\n",
       "89     GRD\n",
       "90     KWT\n",
       "91     MDA\n",
       "92     SYR\n",
       "Name: Country, Length: 93, dtype: object"
      ]
     },
     "execution_count": 4,
     "metadata": {},
     "output_type": "execute_result"
    }
   ],
   "source": [
    "import pycountry\n",
    "import pycountry_convert as pcc\n",
    "from fuzzywuzzy import fuzz, process\n",
    "\n",
    "# Create a list of all unique countries in the dataframe\n",
    "countries = df_medals['Country'].unique().tolist()\n",
    "print(countries)\n",
    "\n",
    "#Create a list of all standard country names\n",
    "countries_standard = [country.name for country in pycountry.countries]\n",
    "#print(countries_standard)\n",
    "\n",
    "for i in range(len(df_medals)):\n",
    "    temp = df_medals['Country'][i]\n",
    "    country = 'c'\n",
    "    try:\n",
    "        #print(pycountry.countries.lookup(temp))\n",
    "        country = pycountry.countries.lookup(temp)\n",
    "        #print(country)\n",
    "    except LookupError as e:\n",
    "        print('a')\n",
    "        #continue\n",
    "    if country == 'c':\n",
    "        #print('k')\n",
    "        try:\n",
    "            match = process.extractOne(str(temp), countries_standard, scorer=fuzz.token_sort_ratio)\n",
    "            print(match)\n",
    "            print('kk')\n",
    "            if match[1] > 74:\n",
    "                print(match[0])\n",
    "                c = pycountry.countries.get(name=match[0])\n",
    "                country_code=c.alpha_3\n",
    "                #country_code = pcc.country_alpha3_to_country_name(match[0])\n",
    "                df_medals.loc[i, 'Country'] = country_code\n",
    "            else:\n",
    "                df_medals.loc[i, 'Country'] = None\n",
    "        except ValueError as e:\n",
    "            df_medals.loc[i, 'Country'] = None\n",
    "    else:\n",
    "        df_medals.loc[i, 'Country'] = country.alpha_3\n",
    "    \n",
    "#print(countries)\n",
    "df_medals['Country']"
   ]
  },
  {
   "cell_type": "code",
   "execution_count": 5,
   "id": "0641d8da-71dc-450d-8c6e-14c87aff6f99",
   "metadata": {},
   "outputs": [
    {
     "name": "stdout",
     "output_type": "stream",
     "text": [
      "   Country  Gold Medal  Silver Medal  Bronze Medal  Total  Rank By Total\n",
      "0      USA          39            41            33    113              1\n",
      "1      CHN          38            32            18     88              2\n",
      "2      JPN          27            14            17     58              5\n",
      "3     None          22            21            22     65              4\n",
      "4     None          20            28            23     71              3\n",
      "5      AUS          17             7            22     46              6\n",
      "6      NLD          10            12            14     36              9\n",
      "7      FRA          10            12            11     33             10\n",
      "8      DEU          10            11            16     37              8\n",
      "9      ITA          10            10            20     40              7\n",
      "10     CAN           7             6            11     24             11\n",
      "11     BRA           7             6             8     21             12\n",
      "12     NZL           7             6             7     20             13\n",
      "13     CUB           7             3             5     15             18\n",
      "14     HUN           6             7             7     20             13\n",
      "15     KOR           6             4            10     20             13\n",
      "16     POL           4             5             5     14             19\n",
      "17     CZE           4             4             3     11             23\n",
      "18     KEN           4             4             2     10             25\n",
      "19     NOR           4             2             2      8             29\n",
      "20     JAM           4             1             4      9             26\n",
      "21     ESP           3             8             6     17             17\n",
      "22     SWE           3             6             0      9             26\n",
      "23     CHE           3             4             6     13             20\n",
      "24     DNK           3             4             4     11             23\n",
      "25     HRV           3             3             2      8             29\n",
      "26     IRN           3             2             2      7             33\n",
      "27     SRB           3             1             5      9             26\n",
      "28     BEL           3             1             3      7             33\n",
      "29     BGR           3             1             2      6             39\n",
      "30     SVN           3             1             1      5             42\n",
      "31     UZB           3             0             2      5             42\n",
      "32     GEO           2             5             1      8             29\n",
      "33    None           2             4             6     12             22\n",
      "34     TUR           2             2             9     13             20\n",
      "35     GRC           2             1             1      4             47\n",
      "36     UGA           2             1             1      4             47\n",
      "37     ECU           2             1             0      3             60\n",
      "38     IRL           2             0             2      4             47\n",
      "39     ISR           2             0             2      4             47\n",
      "40     QAT           2             0             1      3             60\n",
      "41     BHS           2             0             0      2             66\n",
      "42    None           2             0             0      2             66\n",
      "43     UKR           1             6            12     19             16\n",
      "44     BLR           1             3             3      7             33\n",
      "45     ROU           1             3             0      4             47\n",
      "46     VEN           1             3             0      4             47\n",
      "47     IND           1             2             4      7             33\n",
      "48     HKG           1             2             3      6             39\n",
      "49     PHL           1             2             1      4             47\n",
      "50     SVK           1             2             1      4             47\n",
      "51     ZAF           1             2             0      3             60\n",
      "52     AUT           1             1             5      7             33\n",
      "53     EGY           1             1             4      6             39\n",
      "54     IDN           1             1             3      5             42\n",
      "55     ETH           1             1             2      4             47\n",
      "56     PRT           1             1             2      4             47\n",
      "57     TUN           1             1             0      2             66\n",
      "58     EST           1             0             1      2             66\n",
      "59     FJI           1             0             1      2             66\n",
      "60     LVA           1             0             1      2             66\n",
      "61     THA           1             0             1      2             66\n",
      "62     BMU           1             0             0      1             77\n",
      "63     MAR           1             0             0      1             77\n",
      "64     PRI           1             0             0      1             77\n",
      "65     COL           0             4             1      5             42\n",
      "66     AZE           0             3             4      7             33\n",
      "67     DOM           0             3             2      5             42\n",
      "68     ARM           0             2             2      4             47\n",
      "69     KGZ           0             2             1      3             60\n",
      "70     MNG           0             1             3      4             47\n",
      "71     ARG           0             1             2      3             60\n",
      "72     SMR           0             1             2      3             60\n",
      "73     JOR           0             1             1      2             66\n",
      "74     MYS           0             1             1      2             66\n",
      "75     NGA           0             1             1      2             66\n",
      "76     BHR           0             1             0      1             77\n",
      "77     SAU           0             1             0      1             77\n",
      "78     LTU           0             1             0      1             77\n",
      "79     MKD           0             1             0      1             77\n",
      "80     NAM           0             1             0      1             77\n",
      "81     TKM           0             1             0      1             77\n",
      "82     KAZ           0             0             8      8             29\n",
      "83     MEX           0             0             4      4             47\n",
      "84     FIN           0             0             2      2             66\n",
      "85     BWA           0             0             1      1             77\n",
      "86     BFA           0             0             1      1             77\n",
      "87     CIV           0             0             1      1             77\n",
      "88     GHA           0             0             1      1             77\n",
      "89     GRD           0             0             1      1             77\n",
      "90     KWT           0             0             1      1             77\n",
      "91     MDA           0             0             1      1             77\n",
      "92     SYR           0             0             1      1             77\n"
     ]
    }
   ],
   "source": [
    "with pd.option_context('display.max_rows', None, 'display.max_columns', None):  # more options can be specified also\n",
    "    print(df_medals)"
   ]
  },
  {
   "cell_type": "code",
   "execution_count": 6,
   "id": "b8eb9be3-4e2e-4371-8da5-78e632e5291a",
   "metadata": {},
   "outputs": [
    {
     "data": {
      "text/plain": [
       "[('Czechia', 100),\n",
       " ('Korea, Republic of', 64),\n",
       " ('Dominican Republic', 62),\n",
       " ('Central African Republic', 61),\n",
       " ('Moldova, Republic of', 59)]"
      ]
     },
     "execution_count": 6,
     "metadata": {},
     "output_type": "execute_result"
    }
   ],
   "source": []
  },
  {
   "cell_type": "code",
   "execution_count": 7,
   "id": "79df2291-cfcd-49c3-97ad-f21f4a670581",
   "metadata": {},
   "outputs": [
    {
     "name": "stdout",
     "output_type": "stream",
     "text": [
      "['Aruba', 'Afghanistan', 'Angola', 'Anguilla', 'Åland Islands', 'Albania', 'Andorra', 'United Arab Emirates', 'Argentina', 'Armenia', 'American Samoa', 'Antarctica', 'French Southern Territories', 'Antigua and Barbuda', 'Australia', 'Austria', 'Azerbaijan', 'Burundi', 'Belgium', 'Benin', 'Bonaire, Sint Eustatius and Saba', 'Burkina Faso', 'Bangladesh', 'Bulgaria', 'Bahrain', 'Bahamas', 'Bosnia and Herzegovina', 'Saint Barthélemy', 'Belarus', 'Belize', 'Bermuda', 'Bolivia, Plurinational State of', 'Brazil', 'Barbados', 'Brunei Darussalam', 'Bhutan', 'Bouvet Island', 'Botswana', 'Central African Republic', 'Canada', 'Cocos (Keeling) Islands', 'Switzerland', 'Chile', 'China', \"Côte d'Ivoire\", 'Cameroon', 'Congo, The Democratic Republic of the', 'Congo', 'Cook Islands', 'Colombia', 'Comoros', 'Cabo Verde', 'Costa Rica', 'Cuba', 'Curaçao', 'Christmas Island', 'Cayman Islands', 'Cyprus', 'Czechia', 'Germany', 'Djibouti', 'Dominica', 'Denmark', 'Dominican Republic', 'Algeria', 'Ecuador', 'Egypt', 'Eritrea', 'Western Sahara', 'Spain', 'Estonia', 'Ethiopia', 'Finland', 'Fiji', 'Falkland Islands (Malvinas)', 'France', 'Faroe Islands', 'Micronesia, Federated States of', 'Gabon', 'United Kingdom', 'Georgia', 'Guernsey', 'Ghana', 'Gibraltar', 'Guinea', 'Guadeloupe', 'Gambia', 'Guinea-Bissau', 'Equatorial Guinea', 'Greece', 'Grenada', 'Greenland', 'Guatemala', 'French Guiana', 'Guam', 'Guyana', 'Hong Kong', 'Heard Island and McDonald Islands', 'Honduras', 'Croatia', 'Haiti', 'Hungary', 'Indonesia', 'Isle of Man', 'India', 'British Indian Ocean Territory', 'Ireland', 'Iran, Islamic Republic of', 'Iraq', 'Iceland', 'Israel', 'Italy', 'Jamaica', 'Jersey', 'Jordan', 'Japan', 'Kazakhstan', 'Kenya', 'Kyrgyzstan', 'Cambodia', 'Kiribati', 'Saint Kitts and Nevis', 'Korea, Republic of', 'Kuwait', \"Lao People's Democratic Republic\", 'Lebanon', 'Liberia', 'Libya', 'Saint Lucia', 'Liechtenstein', 'Sri Lanka', 'Lesotho', 'Lithuania', 'Luxembourg', 'Latvia', 'Macao', 'Saint Martin (French part)', 'Morocco', 'Monaco', 'Moldova, Republic of', 'Madagascar', 'Maldives', 'Mexico', 'Marshall Islands', 'North Macedonia', 'Mali', 'Malta', 'Myanmar', 'Montenegro', 'Mongolia', 'Northern Mariana Islands', 'Mozambique', 'Mauritania', 'Montserrat', 'Martinique', 'Mauritius', 'Malawi', 'Malaysia', 'Mayotte', 'Namibia', 'New Caledonia', 'Niger', 'Norfolk Island', 'Nigeria', 'Nicaragua', 'Niue', 'Netherlands', 'Norway', 'Nepal', 'Nauru', 'New Zealand', 'Oman', 'Pakistan', 'Panama', 'Pitcairn', 'Peru', 'Philippines', 'Palau', 'Papua New Guinea', 'Poland', 'Puerto Rico', \"Korea, Democratic People's Republic of\", 'Portugal', 'Paraguay', 'Palestine, State of', 'French Polynesia', 'Qatar', 'Réunion', 'Romania', 'Russian Federation', 'Rwanda', 'Saudi Arabia', 'Sudan', 'Senegal', 'Singapore', 'South Georgia and the South Sandwich Islands', 'Saint Helena, Ascension and Tristan da Cunha', 'Svalbard and Jan Mayen', 'Solomon Islands', 'Sierra Leone', 'El Salvador', 'San Marino', 'Somalia', 'Saint Pierre and Miquelon', 'Serbia', 'South Sudan', 'Sao Tome and Principe', 'Suriname', 'Slovakia', 'Slovenia', 'Sweden', 'Eswatini', 'Sint Maarten (Dutch part)', 'Seychelles', 'Syrian Arab Republic', 'Turks and Caicos Islands', 'Chad', 'Togo', 'Thailand', 'Tajikistan', 'Tokelau', 'Turkmenistan', 'Timor-Leste', 'Tonga', 'Trinidad and Tobago', 'Tunisia', 'Turkey', 'Tuvalu', 'Taiwan, Province of China', 'Tanzania, United Republic of', 'Uganda', 'Ukraine', 'United States Minor Outlying Islands', 'Uruguay', 'United States', 'Uzbekistan', 'Holy See (Vatican City State)', 'Saint Vincent and the Grenadines', 'Venezuela, Bolivarian Republic of', 'Virgin Islands, British', 'Virgin Islands, U.S.', 'Viet Nam', 'Vanuatu', 'Wallis and Futuna', 'Samoa', 'Yemen', 'South Africa', 'Zambia', 'Zimbabwe']\n"
     ]
    }
   ],
   "source": []
  },
  {
   "cell_type": "code",
   "execution_count": null,
   "id": "61075016-b7a8-45c4-83da-06d21af5b1eb",
   "metadata": {},
   "outputs": [],
   "source": []
  },
  {
   "cell_type": "code",
   "execution_count": null,
   "id": "6365b66b-6acd-4db9-9d2e-d4bab87bd436",
   "metadata": {},
   "outputs": [],
   "source": []
  }
 ],
 "metadata": {
  "kernelspec": {
   "display_name": "Python 3 (ipykernel)",
   "language": "python",
   "name": "python3"
  },
  "language_info": {
   "codemirror_mode": {
    "name": "ipython",
    "version": 3
   },
   "file_extension": ".py",
   "mimetype": "text/x-python",
   "name": "python",
   "nbconvert_exporter": "python",
   "pygments_lexer": "ipython3",
   "version": "3.9.7"
  }
 },
 "nbformat": 4,
 "nbformat_minor": 5
}
