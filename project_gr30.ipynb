{
 "cells": [
  {
   "cell_type": "markdown",
   "id": "a252777b-eb45-488e-91a3-8e0051eae0dd",
   "metadata": {},
   "source": [
    "# Project group 30"
   ]
  },
  {
   "cell_type": "markdown",
   "id": "b46ddfce-7f22-42a9-9570-407dccc33bb1",
   "metadata": {},
   "source": [
    "# What is the correlation between a country's corruption perception index and their likelihood of being awarded a medal during the Olympic Games?"
   ]
  },
  {
   "cell_type": "code",
   "execution_count": 1,
   "id": "33d0fd4b-2275-4431-b29c-89452c7ad2a0",
   "metadata": {},
   "outputs": [
    {
     "name": "stderr",
     "output_type": "stream",
     "text": [
      "/opt/anaconda3/lib/python3.9/site-packages/fuzzywuzzy/fuzz.py:11: UserWarning: Using slow pure-python SequenceMatcher. Install python-Levenshtein to remove this warning\n",
      "  warnings.warn('Using slow pure-python SequenceMatcher. Install python-Levenshtein to remove this warning')\n"
     ]
    }
   ],
   "source": [
    "#read necessary libraries \n",
    "import numpy as np\n",
    "import pandas as pd\n",
    "import pycountry\n",
    "import pycountry_convert as pcc\n",
    "from fuzzywuzzy import fuzz, process\n",
    "import matplotlib.pyplot as plt\n",
    "pd.options.display.max_rows = 20\n",
    "np.set_printoptions(precision = 4, suppress = True)"
   ]
  },
  {
   "cell_type": "markdown",
   "id": "acb26ef0-eaf5-4842-9d6e-edc4332aaf89",
   "metadata": {},
   "source": [
    "Necesarry installations:"
   ]
  },
  {
   "cell_type": "code",
   "execution_count": 2,
   "id": "b3f956b4-4e01-4a96-8955-d6232a8aa73c",
   "metadata": {},
   "outputs": [],
   "source": [
    "#pip install pycountry_convert\n",
    "#pip install fuzzywuzzy"
   ]
  },
  {
   "cell_type": "code",
   "execution_count": 3,
   "id": "ce6af863-5dae-448d-987f-8a59b73556fe",
   "metadata": {},
   "outputs": [],
   "source": [
    "#loading the csv files into dataframes\n",
    "population = 'population.csv'\n",
    "df_population= pd.read_csv(population)\n",
    "medals = 'medals.csv'\n",
    "df_medals= pd.read_csv(medals)\n",
    "cpi = 'cpi.csv'\n",
    "df_cpi= pd.read_csv(cpi)\n",
    "df_happiness = pd.read_csv('world-happiness-report-2021.csv')\n",
    "df_population_density = pd.read_csv('population_by_country_2020.csv')\n",
    "df_drinking = pd.read_csv('drinks.csv')"
   ]
  },
  {
   "cell_type": "code",
   "execution_count": 4,
   "id": "8fdadbc4",
   "metadata": {},
   "outputs": [],
   "source": [
    "def normalize_countries(dataframe, name_country_column):\n",
    "\n",
    "    # Create a list of all unique countries in the dataframe\n",
    "\n",
    "    countries = dataframe[name_country_column].unique().tolist()\n",
    "\n",
    "    #Create a list of all standard country names\n",
    "    countries_standard = [country.name for country in pycountry.countries]\n",
    "\n",
    "    for i in range(len(dataframe)):\n",
    "        temp = dataframe[name_country_column][i]\n",
    "        country = 'c'\n",
    "        try:\n",
    "            country = pycountry.countries.lookup(temp)\n",
    "        except LookupError as e:\n",
    "            pass\n",
    "        if country == 'c':\n",
    "            try:\n",
    "                match = process.extractOne(str(temp), countries_standard, scorer=fuzz.token_sort_ratio)\n",
    "                if match[1] > 74:\n",
    "                    c = pycountry.countries.get(name=match[0])\n",
    "                    country_code=c.alpha_3\n",
    "                    dataframe.loc[i, name_country_column] = country_code\n",
    "                else:\n",
    "                    dataframe.loc[i, name_country_column] = None\n",
    "            except ValueError as e:\n",
    "                dataframe.loc[i, name_country_column] = None\n",
    "        else:\n",
    "            dataframe.loc[i, name_country_column] = country.alpha_3\n"
   ]
  },
  {
   "cell_type": "markdown",
   "id": "c1db7e8a-bf3b-4a74-94cd-2d4c428705cf",
   "metadata": {},
   "source": [
    "# Create a list of all unique countries in the dataframe\n",
    "countries = df_medals['Country'].unique().tolist()\n",
    "\n",
    "#Create a list of all standard country names\n",
    "countries_standard = [country.name for country in pycountry.countries]\n",
    "\n",
    "for i in range(len(df_medals)):\n",
    "    temp = df_medals['Country'][i]\n",
    "    country = 'c'\n",
    "    try:\n",
    "        country = pycountry.countries.lookup(temp)\n",
    "    except LookupError as e:\n",
    "        pass\n",
    "    if country == 'c':\n",
    "        try:\n",
    "            match = process.extractOne(str(temp), countries_standard, scorer=fuzz.token_sort_ratio)\n",
    "            if match[1] > 74:\n",
    "                c = pycountry.countries.get(name=match[0])\n",
    "                country_code=c.alpha_3\n",
    "                df_medals.loc[i, 'Country'] = country_code\n",
    "            else:\n",
    "                df_medals.loc[i, 'Country'] = None\n",
    "        except ValueError as e:\n",
    "            df_medals.loc[i, 'Country'] = None\n",
    "    else:\n",
    "        df_medals.loc[i, 'Country'] = country.alpha_3\n",
    "\n",
    "\n",
    "#manually converting few instances\n",
    "#Kosovo doesn't have ISO3\n",
    "df_medals.at[3, 'Country'] = 'GBR'\n",
    "df_medals.at[4, 'Country'] = 'RUS'\n",
    "df_medals.at[33, 'Country'] = 'TWN'"
   ]
  },
  {
   "cell_type": "code",
   "execution_count": 5,
   "id": "c9c9e339",
   "metadata": {},
   "outputs": [],
   "source": [
    "normalize_countries(df_medals, 'Country')\n",
    "\n",
    "#manually converting few instances\n",
    "#Kosovo doesn't have ISO3\n",
    "df_medals.at[3, 'Country'] = 'GBR'\n",
    "df_medals.at[4, 'Country'] = 'RUS'\n",
    "df_medals.at[33, 'Country'] = 'TWN'"
   ]
  },
  {
   "cell_type": "markdown",
   "id": "2c056c4b-3b4e-4127-a838-4fd25061acd0",
   "metadata": {},
   "source": [
    "Display the original table with \"Gold Medal\", \"Silver Medal\" and \"Bronze Medal\" columns:"
   ]
  },
  {
   "cell_type": "code",
   "execution_count": 6,
   "id": "0641d8da-71dc-450d-8c6e-14c87aff6f99",
   "metadata": {},
   "outputs": [
    {
     "name": "stdout",
     "output_type": "stream",
     "text": [
      "   Country  Gold Medal  Silver Medal  Bronze Medal  Total  Rank By Total\n",
      "0      USA          39            41            33    113              1\n",
      "1      CHN          38            32            18     88              2\n",
      "2      JPN          27            14            17     58              5\n",
      "3      GBR          22            21            22     65              4\n",
      "4      RUS          20            28            23     71              3\n",
      "5      AUS          17             7            22     46              6\n",
      "6      NLD          10            12            14     36              9\n",
      "7      FRA          10            12            11     33             10\n",
      "8      DEU          10            11            16     37              8\n",
      "9      ITA          10            10            20     40              7\n",
      "10     CAN           7             6            11     24             11\n",
      "11     BRA           7             6             8     21             12\n",
      "12     NZL           7             6             7     20             13\n",
      "13     CUB           7             3             5     15             18\n",
      "14     HUN           6             7             7     20             13\n",
      "15     KOR           6             4            10     20             13\n",
      "16     POL           4             5             5     14             19\n",
      "17     CZE           4             4             3     11             23\n",
      "18     KEN           4             4             2     10             25\n",
      "19     NOR           4             2             2      8             29\n",
      "20     JAM           4             1             4      9             26\n",
      "21     ESP           3             8             6     17             17\n",
      "22     SWE           3             6             0      9             26\n",
      "23     CHE           3             4             6     13             20\n",
      "24     DNK           3             4             4     11             23\n",
      "25     HRV           3             3             2      8             29\n",
      "26     IRN           3             2             2      7             33\n",
      "27     SRB           3             1             5      9             26\n",
      "28     BEL           3             1             3      7             33\n",
      "29     BGR           3             1             2      6             39\n",
      "30     SVN           3             1             1      5             42\n",
      "31     UZB           3             0             2      5             42\n",
      "32     GEO           2             5             1      8             29\n",
      "33     TWN           2             4             6     12             22\n",
      "34     TUR           2             2             9     13             20\n",
      "35     GRC           2             1             1      4             47\n",
      "36     UGA           2             1             1      4             47\n",
      "37     ECU           2             1             0      3             60\n",
      "38     IRL           2             0             2      4             47\n",
      "39     ISR           2             0             2      4             47\n",
      "40     QAT           2             0             1      3             60\n",
      "41     BHS           2             0             0      2             66\n",
      "42    None           2             0             0      2             66\n",
      "43     UKR           1             6            12     19             16\n",
      "44     BLR           1             3             3      7             33\n",
      "45     ROU           1             3             0      4             47\n",
      "46     VEN           1             3             0      4             47\n",
      "47     IND           1             2             4      7             33\n",
      "48     HKG           1             2             3      6             39\n",
      "49     PHL           1             2             1      4             47\n",
      "50     SVK           1             2             1      4             47\n",
      "51     ZAF           1             2             0      3             60\n",
      "52     AUT           1             1             5      7             33\n",
      "53     EGY           1             1             4      6             39\n",
      "54     IDN           1             1             3      5             42\n",
      "55     ETH           1             1             2      4             47\n",
      "56     PRT           1             1             2      4             47\n",
      "57     TUN           1             1             0      2             66\n",
      "58     EST           1             0             1      2             66\n",
      "59     FJI           1             0             1      2             66\n",
      "60     LVA           1             0             1      2             66\n",
      "61     THA           1             0             1      2             66\n",
      "62     BMU           1             0             0      1             77\n",
      "63     MAR           1             0             0      1             77\n",
      "64     PRI           1             0             0      1             77\n",
      "65     COL           0             4             1      5             42\n",
      "66     AZE           0             3             4      7             33\n",
      "67     DOM           0             3             2      5             42\n",
      "68     ARM           0             2             2      4             47\n",
      "69     KGZ           0             2             1      3             60\n",
      "70     MNG           0             1             3      4             47\n",
      "71     ARG           0             1             2      3             60\n",
      "72     SMR           0             1             2      3             60\n",
      "73     JOR           0             1             1      2             66\n",
      "74     MYS           0             1             1      2             66\n",
      "75     NGA           0             1             1      2             66\n",
      "76     BHR           0             1             0      1             77\n",
      "77     SAU           0             1             0      1             77\n",
      "78     LTU           0             1             0      1             77\n",
      "79     MKD           0             1             0      1             77\n",
      "80     NAM           0             1             0      1             77\n",
      "81     TKM           0             1             0      1             77\n",
      "82     KAZ           0             0             8      8             29\n",
      "83     MEX           0             0             4      4             47\n",
      "84     FIN           0             0             2      2             66\n",
      "85     BWA           0             0             1      1             77\n",
      "86     BFA           0             0             1      1             77\n",
      "87     CIV           0             0             1      1             77\n",
      "88     GHA           0             0             1      1             77\n",
      "89     GRD           0             0             1      1             77\n",
      "90     KWT           0             0             1      1             77\n",
      "91     MDA           0             0             1      1             77\n",
      "92     SYR           0             0             1      1             77\n"
     ]
    }
   ],
   "source": [
    "with pd.option_context('display.max_rows', None, 'display.max_columns', None):  # more options can be specified also\n",
    "   print(df_medals)"
   ]
  },
  {
   "cell_type": "markdown",
   "id": "fc5ce40d-0716-4d15-9874-e5ceeadb45c4",
   "metadata": {},
   "source": [
    "# Methodology"
   ]
  },
  {
   "cell_type": "markdown",
   "id": "cd6dacad-200e-483b-937b-c212a7bc207f",
   "metadata": {},
   "source": [
    "Medals scoring system:\n",
    "    \n",
    "    GOLD - 3 points\n",
    "    SILVER - 2 points\n",
    "    BRONZE - 1 point\n"
   ]
  },
  {
   "cell_type": "code",
   "execution_count": 7,
   "id": "6365b66b-6acd-4db9-9d2e-d4bab87bd436",
   "metadata": {},
   "outputs": [],
   "source": [
    "#calculating the value of the medals earned\n",
    "medal_values=[]\n",
    "for i in range(len(df_medals)):\n",
    "    temp_g=df_medals['Gold Medal'][i]\n",
    "    #print(temp_g)\n",
    "    temp_s=df_medals['Silver Medal'][i]\n",
    "    temp_b=df_medals['Bronze Medal'][i]\n",
    "    value=(temp_g*3)+(temp_s*2)+temp_b\n",
    "    medal_values.append(value)\n",
    "df_medals[\"Medal Value\"] = medal_values"
   ]
  },
  {
   "cell_type": "code",
   "execution_count": 9,
   "id": "bff23a35-8ace-41bb-b9c2-5873b8420314",
   "metadata": {},
   "outputs": [
    {
     "name": "stdout",
     "output_type": "stream",
     "text": [
      "   Country_x  Medal Value  Medals per million  2020 Population  CPI score 2019\n",
      "0        USA          232            0.690595        335942003            69.0\n",
      "1        CHN          196            0.137551       1424929781            41.0\n",
      "2        JPN          126            1.006030        125244761            73.0\n",
      "3        GBR          130            1.938578         67059474            77.0\n",
      "4        RUS          139            0.954557        145617329            28.0\n",
      "5        AUS           87            3.389164         25670051            77.0\n",
      "6        NLD           68            3.900300         17434557            82.0\n",
      "7        FRA           65            1.008064         64480053            69.0\n",
      "8        DEU           68            0.816043         83328988            80.0\n",
      "9        ITA           70            1.176459         59500579            53.0\n",
      "10       CAN           44            1.161296         37888705            77.0\n",
      "11       BRA           41            0.192311        213196304            35.0\n",
      "12       NZL           40            7.903369          5061133            87.0\n",
      "13       CUB           32            2.831683         11300698            48.0\n",
      "14       HUN           39            3.999765          9750573            44.0\n",
      "15       KOR           36            0.694382         51844690            59.0\n",
      "16       POL           27            0.702606         38428366            58.0\n",
      "17       CZE           23            2.184038         10530953            56.0\n",
      "18       KEN           22            0.423193         51985780            28.0\n",
      "19       NOR           18            3.345825          5379839            84.0\n",
      "20       JAM           18            6.381992          2820436            43.0\n",
      "21       ESP           31            0.654508         47363807            62.0\n",
      "22       SWE           21            2.025274         10368969            85.0\n",
      "23       CHE           23            2.662464          8638613            85.0\n",
      "24       DNK           21            3.604754          5825641            87.0\n",
      "25       HRV           17            4.149511          4096868            47.0\n",
      "26       IRN           15            0.171841         87290193            26.0\n",
      "27       SRB           16            2.174502          7358005            39.0\n",
      "28       BEL           14            1.210893         11561717            75.0\n",
      "29       BGR           13            1.862684          6979175            43.0\n",
      "30       SVN           12            5.666683          2117641            60.0\n",
      "31       UZB           11            0.328097         33526656            25.0\n",
      "32       GEO           17            4.514179          3765912            56.0\n",
      "33       TWN           20            0.839579         23821464            65.0\n",
      "34       TUR           19            0.225826         84135428            39.0\n",
      "35       GRC            9            0.856145         10512232            48.0\n",
      "36       UGA            9            0.202682         44404611            28.0\n",
      "37       ECU            8            0.454840         17588595            38.0\n",
      "38       IRL            8            1.617430          4946119            74.0\n",
      "39       ISR            8            0.913504          8757489            60.0\n",
      "40       QAT            7            2.535878          2760385            62.0\n",
      "41       BHS            6           14.761201           406471            64.0\n",
      "42       UKR           27            0.614899         43909666            30.0\n",
      "43       BLR           12            1.245622          9633740            45.0\n",
      "44       ROU            9            0.462914         19442038            44.0\n",
      "45       VEN            9            0.315895         28490453            16.0\n",
      "46       IND           11            0.007877       1396387127            41.0\n",
      "47       HKG           10            1.333163          7500958            76.0\n",
      "48       PHL            8            0.071307        112190977            34.0\n",
      "49       SVK            8            1.466093          5456681            50.0\n",
      "50       ZAF            7            0.119044         58801927            44.0\n",
      "51       AUT           10            1.122615          8907777            77.0\n",
      "52       EGY            9            0.083748        107465134            35.0\n",
      "53       IDN            8            0.029427        271857970            40.0\n",
      "54       ETH            7            0.059732        117190911            37.0\n",
      "55       PRT            7            0.679731         10298192            62.0\n",
      "56       TUN            5            0.411126         12161723            43.0\n",
      "57       EST            4            3.008777          1329444            74.0\n",
      "58       FJI            4            4.345833           920422             NaN\n",
      "59       LVA            4            2.108535          1897052            56.0\n",
      "60       THA            4            0.055963         71475664            36.0\n",
      "61       BMU            3           46.852306            64031             NaN\n",
      "62       MAR            3            0.081769         36688772            41.0\n",
      "63       PRI            3            0.916993          3271564             NaN\n",
      "64       COL            9            0.176711         50930662            37.0\n",
      "65       AZE           10            0.972294         10284951            30.0\n",
      "66       DOM            8            0.727295         10999664            28.0\n",
      "67       ARM            6            2.138574          2805608            42.0\n",
      "68       KGZ            5            0.778225          6424874            30.0\n",
      "69       MNG            5            1.517757          3294335            35.0\n",
      "70       ARG            4            0.088818         45036032            45.0\n",
      "71       SMR            4          117.622842            34007             NaN\n",
      "72       JOR            3            0.274506         10928721            48.0\n",
      "73       MYS            3            0.090361         33199993            53.0\n",
      "74       NGA            3            0.014400        208327405            26.0\n",
      "75       BHR            2            1.353666          1477469            42.0\n",
      "76       SAU            2            0.055560         35997107            53.0\n",
      "77       LTU            2            0.709153          2820267            60.0\n",
      "78       MKD            2            0.947386          2111072            35.0\n",
      "79       NAM            2            0.803504          2489098            52.0\n",
      "80       TKM            2            0.319978          6250438            19.0\n",
      "81       KAZ            8            0.421513         18979243            34.0\n",
      "82       MEX            4            0.031746        125998302            29.0\n",
      "83       FIN            2            0.361698          5529468            86.0\n",
      "84       BWA            1            0.392711          2546402            61.0\n",
      "85       BFA            1            0.046463         21522626            40.0\n",
      "86       CIV            1            0.037297         26811790            35.0\n",
      "87       GHA            1            0.031075         32180401            41.0\n",
      "88       GRD            1            8.086493           123663            53.0\n",
      "89       KWT            1            0.229334          4360444            40.0\n",
      "90       MDA            1            0.324165          3084847            32.0\n",
      "91       SYR            1            0.048140         20772595            13.0\n"
     ]
    }
   ],
   "source": [
    "#merging medal df with population df\n",
    "df_merged1 = pd.merge(df_medals, df_population, left_on='Country', right_on='CCA3')\n",
    "\n",
    "#calculation medal value per million inhabitants\n",
    "medals_per_million=[]\n",
    "for i in range(len(df_merged1)):\n",
    "    medal_adjusted = df_merged1['Medal Value'][i]/(df_merged1['2020 Population'][i]/1000000) \n",
    "    medals_per_million.append(medal_adjusted)\n",
    "df_merged1[\"Medals per million\"] = medals_per_million\n",
    "\n",
    "#merging the resulting df with cpi df\n",
    "df_merged2 = pd.merge(df_merged1, df_cpi, left_on='Country', right_on='ISO3', how='left')\n",
    "df_merged2\n",
    "df = df_merged2[['Country_x','Medal Value', 'Medals per million','2020 Population', 'CPI score 2019']]\n",
    "df"
   ]
  },
  {
   "cell_type": "markdown",
   "id": "37e6a37e",
   "metadata": {},
   "source": [
    "Merging dataframe with Alcohol Consumption"
   ]
  },
  {
   "cell_type": "code",
   "execution_count": 10,
   "id": "d4c330d5",
   "metadata": {},
   "outputs": [],
   "source": [
    "#preparing data\n",
    "normalize_countries(df_drinking, 'country')\n",
    "df_drinking = df_drinking[['country', 'total_litres_of_pure_alcohol']]\n",
    "df_drinking.rename(columns = {'total_litres_of_pure_alcohol':'Alcohol Consumed'}, inplace = True)\n",
    "\n",
    "#merging\n",
    "df = pd.merge(df, df_drinking, left_on='Country_x', right_on='country', how='left')\n",
    "df = df.drop(columns=['country'])\n"
   ]
  },
  {
   "cell_type": "markdown",
   "id": "9be0adec",
   "metadata": {},
   "source": [
    "Adding happiness levels to the dataframe"
   ]
  },
  {
   "cell_type": "code",
   "execution_count": 11,
   "id": "f5d72048",
   "metadata": {},
   "outputs": [],
   "source": [
    "#preparing the dataframe\n",
    "df_happiness.rename(columns = {'Ladder score':'Happiness score'}, inplace = True)\n",
    "df_happiness = df_happiness[['Country name', 'Happiness score']]\n",
    "normalize_countries(df_happiness, 'Country name')\n",
    "\n",
    "\n",
    "#manually converting some names\n",
    "df_happiness.at[75, 'Country name'] = 'RUS'\n",
    "df_happiness.at[117, 'Country name'] = 'IRN'\n",
    "df_happiness.at[76, 'Country name'] = 'HKG'\n",
    "df_happiness.at[84, 'Country name'] = 'CIV'\n",
    "\n",
    "#merging\n",
    "df = pd.merge(df, df_happiness, left_on='Country_x', right_on='Country name', how='left')\n",
    "df = df.drop(columns=['Country name'])\n"
   ]
  },
  {
   "cell_type": "markdown",
   "id": "d825f9b2",
   "metadata": {},
   "source": [
    "Adding population density to the dataframe"
   ]
  },
  {
   "cell_type": "code",
   "execution_count": 12,
   "id": "dc90bdaf",
   "metadata": {},
   "outputs": [],
   "source": [
    "#preparing dataframe\n",
    "df_population_density.rename(columns = {'Country (or dependency)':'Countries'}, inplace = True)\n",
    "df_population_density.rename(columns = {'Density (P/Km²)':'Population Density (P/Km²)'}, inplace = True)\n",
    "df_population_density = df_population_density[['Countries', 'Population Density (P/Km²)']]\n",
    "\n",
    "#manually converting some data to required format\n",
    "df_population_density.at[8, 'Countries'] = 'RUS'\n",
    "df_population_density.at[85, 'Countries'] = 'CZE'\n",
    "df_population_density.at[17, 'Countries'] = 'IRN'\n",
    "df_population_density.at[67, 'Countries'] = 'SYR'\n",
    "\n",
    "\n",
    "normalize_countries(df_population_density, 'Countries')\n",
    "\n",
    "#merging\n",
    "df = pd.merge(df, df_population_density, left_on='Country_x', right_on='Countries', how='left')\n",
    "df = df.drop(columns=['Countries'])"
   ]
  },
  {
   "cell_type": "markdown",
   "id": "c5304dc8-2f50-464e-a76f-ea9e20111a4a",
   "metadata": {},
   "source": [
    "Display a modified table with the weighted values of medals:"
   ]
  },
  {
   "cell_type": "code",
   "execution_count": 13,
   "id": "9c0ad711-b870-43cd-8f08-9e2883b25cd8",
   "metadata": {},
   "outputs": [
    {
     "data": {
      "text/html": [
       "<div>\n",
       "<style scoped>\n",
       "    .dataframe tbody tr th:only-of-type {\n",
       "        vertical-align: middle;\n",
       "    }\n",
       "\n",
       "    .dataframe tbody tr th {\n",
       "        vertical-align: top;\n",
       "    }\n",
       "\n",
       "    .dataframe thead th {\n",
       "        text-align: right;\n",
       "    }\n",
       "</style>\n",
       "<table border=\"1\" class=\"dataframe\">\n",
       "  <thead>\n",
       "    <tr style=\"text-align: right;\">\n",
       "      <th></th>\n",
       "      <th>Country_x</th>\n",
       "      <th>Medal Value</th>\n",
       "      <th>Medals per million</th>\n",
       "      <th>2020 Population</th>\n",
       "      <th>CPI score 2019</th>\n",
       "      <th>Alcohol Consumed</th>\n",
       "      <th>Happiness score</th>\n",
       "      <th>Population Density (P/Km²)</th>\n",
       "    </tr>\n",
       "  </thead>\n",
       "  <tbody>\n",
       "    <tr>\n",
       "      <th>0</th>\n",
       "      <td>USA</td>\n",
       "      <td>232</td>\n",
       "      <td>0.690595</td>\n",
       "      <td>335942003</td>\n",
       "      <td>69.0</td>\n",
       "      <td>8.7</td>\n",
       "      <td>6.951</td>\n",
       "      <td>36</td>\n",
       "    </tr>\n",
       "    <tr>\n",
       "      <th>1</th>\n",
       "      <td>CHN</td>\n",
       "      <td>196</td>\n",
       "      <td>0.137551</td>\n",
       "      <td>1424929781</td>\n",
       "      <td>41.0</td>\n",
       "      <td>5.0</td>\n",
       "      <td>5.339</td>\n",
       "      <td>153</td>\n",
       "    </tr>\n",
       "    <tr>\n",
       "      <th>2</th>\n",
       "      <td>JPN</td>\n",
       "      <td>126</td>\n",
       "      <td>1.006030</td>\n",
       "      <td>125244761</td>\n",
       "      <td>73.0</td>\n",
       "      <td>7.0</td>\n",
       "      <td>5.940</td>\n",
       "      <td>347</td>\n",
       "    </tr>\n",
       "    <tr>\n",
       "      <th>3</th>\n",
       "      <td>GBR</td>\n",
       "      <td>130</td>\n",
       "      <td>1.938578</td>\n",
       "      <td>67059474</td>\n",
       "      <td>77.0</td>\n",
       "      <td>10.4</td>\n",
       "      <td>7.064</td>\n",
       "      <td>281</td>\n",
       "    </tr>\n",
       "    <tr>\n",
       "      <th>4</th>\n",
       "      <td>RUS</td>\n",
       "      <td>139</td>\n",
       "      <td>0.954557</td>\n",
       "      <td>145617329</td>\n",
       "      <td>28.0</td>\n",
       "      <td>11.5</td>\n",
       "      <td>5.477</td>\n",
       "      <td>9</td>\n",
       "    </tr>\n",
       "    <tr>\n",
       "      <th>...</th>\n",
       "      <td>...</td>\n",
       "      <td>...</td>\n",
       "      <td>...</td>\n",
       "      <td>...</td>\n",
       "      <td>...</td>\n",
       "      <td>...</td>\n",
       "      <td>...</td>\n",
       "      <td>...</td>\n",
       "    </tr>\n",
       "    <tr>\n",
       "      <th>88</th>\n",
       "      <td>GHA</td>\n",
       "      <td>1</td>\n",
       "      <td>0.031075</td>\n",
       "      <td>32180401</td>\n",
       "      <td>41.0</td>\n",
       "      <td>1.8</td>\n",
       "      <td>5.088</td>\n",
       "      <td>137</td>\n",
       "    </tr>\n",
       "    <tr>\n",
       "      <th>89</th>\n",
       "      <td>GRD</td>\n",
       "      <td>1</td>\n",
       "      <td>8.086493</td>\n",
       "      <td>123663</td>\n",
       "      <td>53.0</td>\n",
       "      <td>11.9</td>\n",
       "      <td>NaN</td>\n",
       "      <td>331</td>\n",
       "    </tr>\n",
       "    <tr>\n",
       "      <th>90</th>\n",
       "      <td>KWT</td>\n",
       "      <td>1</td>\n",
       "      <td>0.229334</td>\n",
       "      <td>4360444</td>\n",
       "      <td>40.0</td>\n",
       "      <td>0.0</td>\n",
       "      <td>6.106</td>\n",
       "      <td>240</td>\n",
       "    </tr>\n",
       "    <tr>\n",
       "      <th>91</th>\n",
       "      <td>MDA</td>\n",
       "      <td>1</td>\n",
       "      <td>0.324165</td>\n",
       "      <td>3084847</td>\n",
       "      <td>32.0</td>\n",
       "      <td>6.3</td>\n",
       "      <td>5.766</td>\n",
       "      <td>123</td>\n",
       "    </tr>\n",
       "    <tr>\n",
       "      <th>92</th>\n",
       "      <td>SYR</td>\n",
       "      <td>1</td>\n",
       "      <td>0.048140</td>\n",
       "      <td>20772595</td>\n",
       "      <td>13.0</td>\n",
       "      <td>NaN</td>\n",
       "      <td>NaN</td>\n",
       "      <td>95</td>\n",
       "    </tr>\n",
       "  </tbody>\n",
       "</table>\n",
       "<p>93 rows × 8 columns</p>\n",
       "</div>"
      ],
      "text/plain": [
       "   Country_x  Medal Value  Medals per million  2020 Population  \\\n",
       "0        USA          232            0.690595        335942003   \n",
       "1        CHN          196            0.137551       1424929781   \n",
       "2        JPN          126            1.006030        125244761   \n",
       "3        GBR          130            1.938578         67059474   \n",
       "4        RUS          139            0.954557        145617329   \n",
       "..       ...          ...                 ...              ...   \n",
       "88       GHA            1            0.031075         32180401   \n",
       "89       GRD            1            8.086493           123663   \n",
       "90       KWT            1            0.229334          4360444   \n",
       "91       MDA            1            0.324165          3084847   \n",
       "92       SYR            1            0.048140         20772595   \n",
       "\n",
       "    CPI score 2019  Alcohol Consumed  Happiness score  \\\n",
       "0             69.0               8.7            6.951   \n",
       "1             41.0               5.0            5.339   \n",
       "2             73.0               7.0            5.940   \n",
       "3             77.0              10.4            7.064   \n",
       "4             28.0              11.5            5.477   \n",
       "..             ...               ...              ...   \n",
       "88            41.0               1.8            5.088   \n",
       "89            53.0              11.9              NaN   \n",
       "90            40.0               0.0            6.106   \n",
       "91            32.0               6.3            5.766   \n",
       "92            13.0               NaN              NaN   \n",
       "\n",
       "    Population Density (P/Km²)  \n",
       "0                           36  \n",
       "1                          153  \n",
       "2                          347  \n",
       "3                          281  \n",
       "4                            9  \n",
       "..                         ...  \n",
       "88                         137  \n",
       "89                         331  \n",
       "90                         240  \n",
       "91                         123  \n",
       "92                          95  \n",
       "\n",
       "[93 rows x 8 columns]"
      ]
     },
     "execution_count": 13,
     "metadata": {},
     "output_type": "execute_result"
    }
   ],
   "source": [
    "df"
   ]
  },
  {
   "cell_type": "markdown",
   "id": "a81ea931-f0c8-45fc-8270-4ca3e7b53966",
   "metadata": {},
   "source": [
    "# Visualizations"
   ]
  },
  {
   "cell_type": "code",
   "execution_count": 14,
   "id": "2ed9b03c-6ee2-418b-80f3-fb993a2fbb5f",
   "metadata": {},
   "outputs": [
    {
     "data": {
      "text/plain": [
       "[<matplotlib.lines.Line2D at 0x7f7fd12d8910>]"
      ]
     },
     "execution_count": 14,
     "metadata": {},
     "output_type": "execute_result"
    },
    {
     "data": {
      "image/png": "[encoded data removed]",
      "text/plain": [
       "<Figure size 432x288 with 1 Axes>"
      ]
     },
     "metadata": {
      "needs_background": "light"
     },
     "output_type": "display_data"
    },
    {
     "data": {
      "image/png": "[encoded data removed]",
      "text/plain": [
       "<Figure size 432x288 with 1 Axes>"
      ]
     },
     "metadata": {
      "needs_background": "light"
     },
     "output_type": "display_data"
    },
    {
     "data": {
      "image/png": "[encoded data removed]",
      "text/plain": [
       "<Figure size 432x288 with 1 Axes>"
      ]
     },
     "metadata": {
      "needs_background": "light"
     },
     "output_type": "display_data"
    },
    {
     "data": {
      "image/png": "[encoded data removed]",
      "text/plain": [
       "<Figure size 432x288 with 1 Axes>"
      ]
     },
     "metadata": {
      "needs_background": "light"
     },
     "output_type": "display_data"
    }
   ],
   "source": [
    "\n",
    "df_no_outliers = df[df['Medals per million']<12].dropna()\n",
    "\n",
    "\n",
    "#plotting CPI score against medals with trend line\n",
    "df_no_outliers.plot.scatter(x='CPI score 2019',y='Medals per million')\n",
    "z = np.polyfit(df_no_outliers['CPI score 2019'], df_no_outliers['Medals per million'], 1)\n",
    "p = np.poly1d(z) \n",
    "plt.plot(df_no_outliers['CPI score 2019'],p(df_no_outliers['CPI score 2019']), 'k', alpha=0.75)\n",
    "\n",
    "#plotting happiness score against medals with trend line\n",
    "df_no_outliers.plot.scatter(x='Happiness score',y='Medals per million')\n",
    "z = np.polyfit(df_no_outliers['Happiness score'], df_no_outliers['Medals per million'], 1)\n",
    "p = np.poly1d(z) \n",
    "plt.plot(df_no_outliers['Happiness score'],p(df_no_outliers['Happiness score']), 'k', alpha=0.75)\n",
    "\n",
    "#plotting population density against models with trend line\n",
    "df_no_population_outliers = df[df['Population Density (P/Km²)']<1000].dropna()\n",
    "df_no_population_outliers.plot.scatter(x='Population Density (P/Km²)',y='Medals per million')\n",
    "z = np.polyfit(df_no_population_outliers['Population Density (P/Km²)'], df_no_population_outliers['Medals per million'], 1)\n",
    "p = np.poly1d(z) \n",
    "plt.plot(df_no_population_outliers['Population Density (P/Km²)'],p(df_no_population_outliers['Population Density (P/Km²)']), 'k', alpha=0.75)\n",
    "\n",
    "##plotting alcohol consumption against medals with trend line\n",
    "df_no_population_outliers.plot.scatter(x='Alcohol Consumed',y='Medals per million')\n",
    "z = np.polyfit(df_no_population_outliers['Alcohol Consumed'], df_no_population_outliers['Medals per million'], 1)\n",
    "p = np.poly1d(z) \n",
    "plt.plot(df_no_population_outliers['Alcohol Consumed'],p(df_no_population_outliers['Alcohol Consumed']), 'k', alpha=0.75)\n"
   ]
  },
  {
   "cell_type": "code",
   "execution_count": null,
   "id": "bd2ca668-5216-44eb-aaa7-1c3998b5faab",
   "metadata": {},
   "outputs": [],
   "source": []
  }
 ],
 "metadata": {
  "kernelspec": {
   "display_name": "Python 3 (ipykernel)",
   "language": "python",
   "name": "python3"
  },
  "language_info": {
   "codemirror_mode": {
    "name": "ipython",
    "version": 3
   },
   "file_extension": ".py",
   "mimetype": "text/x-python",
   "name": "python",
   "nbconvert_exporter": "python",
   "pygments_lexer": "ipython3",
   "version": "3.9.7"
  },
  "vscode": {
   "interpreter": {
    "hash": "6bb11841ea5c50678b42ce4c20025b18122a49a630cb61e0881a9dc4744106e9"
   }
  }
 },
 "nbformat": 4,
 "nbformat_minor": 5
}
