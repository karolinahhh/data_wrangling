{
 "cells": [
  {
   "cell_type": "markdown",
   "id": "a252777b-eb45-488e-91a3-8e0051eae0dd",
   "metadata": {},
   "source": [
    "# Project group 30"
   ]
  },
  {
   "cell_type": "code",
   "execution_count": 1,
   "id": "33d0fd4b-2275-4431-b29c-89452c7ad2a0",
   "metadata": {},
   "outputs": [],
   "source": [
    "#pip install pycountry_convert\n",
    "#pip install fuzzywuzzy\n",
    "import numpy as np\n",
    "import pandas as pd\n",
    "import pycountry\n",
    "import pycountry_convert as pcc\n",
    "from fuzzywuzzy import fuzz, process\n",
    "pd.options.display.max_rows = 20\n",
    "np.set_printoptions(precision = 4, suppress = True)"
   ]
  },
  {
   "cell_type": "code",
   "execution_count": 3,
   "id": "ce6af863-5dae-448d-987f-8a59b73556fe",
   "metadata": {},
   "outputs": [],
   "source": [
    "#loading the csv files into dataframes\n",
    "population = 'population.csv'\n",
    "df_population= pd.read_csv(population)\n",
    "medals = 'medals.csv'\n",
    "df_medals= pd.read_csv(medals)\n",
    "cpi = 'cpi.csv'\n",
    "df_cpi= pd.read_csv(cpi)"
   ]
  },
  {
   "cell_type": "code",
   "execution_count": 4,
   "id": "7a980e99-3d45-4fe3-9aab-6283f04327d4",
   "metadata": {},
   "outputs": [
    {
     "name": "stderr",
     "output_type": "stream",
     "text": [
      "/opt/anaconda3/lib/python3.9/site-packages/fuzzywuzzy/fuzz.py:11: UserWarning: Using slow pure-python SequenceMatcher. Install python-Levenshtein to remove this warning\n",
      "  warnings.warn('Using slow pure-python SequenceMatcher. Install python-Levenshtein to remove this warning')\n"
     ]
    },
    {
     "name": "stdout",
     "output_type": "stream",
     "text": [
      "a\n",
      "a\n",
      "a\n",
      "a\n",
      "a\n",
      "a\n"
     ]
    }
   ],
   "source": [
    "# Create a list of all unique countries in the dataframe\n",
    "countries = df_medals['Country'].unique().tolist()\n",
    "\n",
    "#Create a list of all standard country names\n",
    "countries_standard = [country.name for country in pycountry.countries]\n",
    "\n",
    "for i in range(len(df_medals)):\n",
    "    temp = df_medals['Country'][i]\n",
    "    country = 'c'\n",
    "    try:\n",
    "        country = pycountry.countries.lookup(temp)\n",
    "    except LookupError as e:\n",
    "        print('a')\n",
    "        #continue\n",
    "    if country == 'c':\n",
    "        try:\n",
    "            match = process.extractOne(str(temp), countries_standard, scorer=fuzz.token_sort_ratio)\n",
    "            if match[1] > 74:\n",
    "                c = pycountry.countries.get(name=match[0])\n",
    "                country_code=c.alpha_3\n",
    "                df_medals.loc[i, 'Country'] = country_code\n",
    "            else:\n",
    "                df_medals.loc[i, 'Country'] = None\n",
    "        except ValueError as e:\n",
    "            df_medals.loc[i, 'Country'] = None\n",
    "    else:\n",
    "        df_medals.loc[i, 'Country'] = country.alpha_3\n",
    "\n",
    "#manually converting few instances\n",
    "#Kosovo doesnt have ISO3\n",
    "df_medals.at[3, 'Country'] = 'GBR'\n",
    "df_medals.at[4, 'Country'] = 'RUS'\n",
    "df_medals.at[33, 'Country'] = 'TWN'"
   ]
  },
  {
   "cell_type": "code",
   "execution_count": 5,
   "id": "0641d8da-71dc-450d-8c6e-14c87aff6f99",
   "metadata": {},
   "outputs": [],
   "source": [
    "#with pd.option_context('display.max_rows', None, 'display.max_columns', None):  # more options can be specified also\n",
    "#    print(df_medals)"
   ]
  },
  {
   "cell_type": "markdown",
   "id": "fc5ce40d-0716-4d15-9874-e5ceeadb45c4",
   "metadata": {},
   "source": [
    "# Methodology"
   ]
  },
  {
   "cell_type": "markdown",
   "id": "cd6dacad-200e-483b-937b-c212a7bc207f",
   "metadata": {},
   "source": [
    "Medals scoring system:\n",
    "    \n",
    "    GOLD - 3 points\n",
    "    SILVER - 2 points\n",
    "    BRONZE - 1 point\n"
   ]
  },
  {
   "cell_type": "code",
   "execution_count": 7,
   "id": "6365b66b-6acd-4db9-9d2e-d4bab87bd436",
   "metadata": {},
   "outputs": [],
   "source": [
    "#calculating the value of the medals earned\n",
    "medal_values=[]\n",
    "for i in range(len(df_medals)):\n",
    "    temp_g=df_medals['Gold Medal'][i]\n",
    "    #print(temp_g)\n",
    "    temp_s=df_medals['Silver Medal'][i]\n",
    "    temp_b=df_medals['Bronze Medal'][i]\n",
    "    value=(temp_g*3)+(temp_s*2)+temp_b\n",
    "    medal_values.append(value)\n",
    "df_medals[\"Medal Value\"] = medal_values"
   ]
  },
  {
   "cell_type": "code",
   "execution_count": 11,
   "id": "bff23a35-8ace-41bb-b9c2-5873b8420314",
   "metadata": {},
   "outputs": [
    {
     "data": {
      "text/html": [
       "<div>\n",
       "<style scoped>\n",
       "    .dataframe tbody tr th:only-of-type {\n",
       "        vertical-align: middle;\n",
       "    }\n",
       "\n",
       "    .dataframe tbody tr th {\n",
       "        vertical-align: top;\n",
       "    }\n",
       "\n",
       "    .dataframe thead th {\n",
       "        text-align: right;\n",
       "    }\n",
       "</style>\n",
       "<table border=\"1\" class=\"dataframe\">\n",
       "  <thead>\n",
       "    <tr style=\"text-align: right;\">\n",
       "      <th></th>\n",
       "      <th>Country_x</th>\n",
       "      <th>Medal Value</th>\n",
       "      <th>Medals per million</th>\n",
       "      <th>2020 Population</th>\n",
       "      <th>CPI score 2019</th>\n",
       "    </tr>\n",
       "  </thead>\n",
       "  <tbody>\n",
       "    <tr>\n",
       "      <th>0</th>\n",
       "      <td>USA</td>\n",
       "      <td>232</td>\n",
       "      <td>0.690595</td>\n",
       "      <td>335942003</td>\n",
       "      <td>69</td>\n",
       "    </tr>\n",
       "    <tr>\n",
       "      <th>1</th>\n",
       "      <td>CHN</td>\n",
       "      <td>196</td>\n",
       "      <td>0.137551</td>\n",
       "      <td>1424929781</td>\n",
       "      <td>41</td>\n",
       "    </tr>\n",
       "    <tr>\n",
       "      <th>2</th>\n",
       "      <td>JPN</td>\n",
       "      <td>126</td>\n",
       "      <td>1.006030</td>\n",
       "      <td>125244761</td>\n",
       "      <td>73</td>\n",
       "    </tr>\n",
       "    <tr>\n",
       "      <th>3</th>\n",
       "      <td>GBR</td>\n",
       "      <td>130</td>\n",
       "      <td>1.938578</td>\n",
       "      <td>67059474</td>\n",
       "      <td>77</td>\n",
       "    </tr>\n",
       "    <tr>\n",
       "      <th>4</th>\n",
       "      <td>RUS</td>\n",
       "      <td>139</td>\n",
       "      <td>0.954557</td>\n",
       "      <td>145617329</td>\n",
       "      <td>28</td>\n",
       "    </tr>\n",
       "    <tr>\n",
       "      <th>...</th>\n",
       "      <td>...</td>\n",
       "      <td>...</td>\n",
       "      <td>...</td>\n",
       "      <td>...</td>\n",
       "      <td>...</td>\n",
       "    </tr>\n",
       "    <tr>\n",
       "      <th>83</th>\n",
       "      <td>GHA</td>\n",
       "      <td>1</td>\n",
       "      <td>0.031075</td>\n",
       "      <td>32180401</td>\n",
       "      <td>41</td>\n",
       "    </tr>\n",
       "    <tr>\n",
       "      <th>84</th>\n",
       "      <td>GRD</td>\n",
       "      <td>1</td>\n",
       "      <td>8.086493</td>\n",
       "      <td>123663</td>\n",
       "      <td>53</td>\n",
       "    </tr>\n",
       "    <tr>\n",
       "      <th>85</th>\n",
       "      <td>KWT</td>\n",
       "      <td>1</td>\n",
       "      <td>0.229334</td>\n",
       "      <td>4360444</td>\n",
       "      <td>40</td>\n",
       "    </tr>\n",
       "    <tr>\n",
       "      <th>86</th>\n",
       "      <td>MDA</td>\n",
       "      <td>1</td>\n",
       "      <td>0.324165</td>\n",
       "      <td>3084847</td>\n",
       "      <td>32</td>\n",
       "    </tr>\n",
       "    <tr>\n",
       "      <th>87</th>\n",
       "      <td>SYR</td>\n",
       "      <td>1</td>\n",
       "      <td>0.048140</td>\n",
       "      <td>20772595</td>\n",
       "      <td>13</td>\n",
       "    </tr>\n",
       "  </tbody>\n",
       "</table>\n",
       "<p>88 rows × 5 columns</p>\n",
       "</div>"
      ],
      "text/plain": [
       "   Country_x  Medal Value  Medals per million  2020 Population  CPI score 2019\n",
       "0        USA          232            0.690595        335942003              69\n",
       "1        CHN          196            0.137551       1424929781              41\n",
       "2        JPN          126            1.006030        125244761              73\n",
       "3        GBR          130            1.938578         67059474              77\n",
       "4        RUS          139            0.954557        145617329              28\n",
       "..       ...          ...                 ...              ...             ...\n",
       "83       GHA            1            0.031075         32180401              41\n",
       "84       GRD            1            8.086493           123663              53\n",
       "85       KWT            1            0.229334          4360444              40\n",
       "86       MDA            1            0.324165          3084847              32\n",
       "87       SYR            1            0.048140         20772595              13\n",
       "\n",
       "[88 rows x 5 columns]"
      ]
     },
     "execution_count": 11,
     "metadata": {},
     "output_type": "execute_result"
    }
   ],
   "source": [
    "#merging medal df with population df\n",
    "df_merged1 = pd.merge(df_medals, df_population, left_on='Country', right_on='CCA3')\n",
    "\n",
    "#calculation medal value per million inhabitants\n",
    "medals_per_million=[]\n",
    "for i in range(len(df_merged1)):\n",
    "    medal_adjusted = df_merged1['Medal Value'][i]/(df_merged1['2020 Population'][i]/1000000) \n",
    "    medals_per_million.append(medal_adjusted)\n",
    "df_merged1[\"Medals per million\"] = medals_per_million\n",
    "\n",
    "#merging the resulting df with cpi df\n",
    "df_merged2 = pd.merge(df_merged1, df_cpi, left_on='Country', right_on='ISO3')\n",
    "df_merged2\n",
    "df = df_merged2[['Country_x','Medal Value', 'Medals per million','2020 Population', 'CPI score 2019']]\n",
    "df\n",
    "\n"
   ]
  }
 ],
 "metadata": {
  "kernelspec": {
   "display_name": "Python 3 (ipykernel)",
   "language": "python",
   "name": "python3"
  },
  "language_info": {
   "codemirror_mode": {
    "name": "ipython",
    "version": 3
   },
   "file_extension": ".py",
   "mimetype": "text/x-python",
   "name": "python",
   "nbconvert_exporter": "python",
   "pygments_lexer": "ipython3",
   "version": "3.9.7"
  }
 },
 "nbformat": 4,
 "nbformat_minor": 5
}
