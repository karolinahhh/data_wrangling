{
 "cells": [
  {
   "cell_type": "markdown",
   "id": "a252777b-eb45-488e-91a3-8e0051eae0dd",
   "metadata": {},
   "source": [
    "# Project group 30"
   ]
  },
  {
   "cell_type": "code",
   "execution_count": null,
   "id": "33d0fd4b-2275-4431-b29c-89452c7ad2a0",
   "metadata": {},
   "outputs": [],
   "source": []
  }
 ],
 "metadata": {
  "kernelspec": {
   "display_name": "Python 3",
   "language": "python",
   "name": "python3"
  },
  "language_info": {
   "codemirror_mode": {
    "name": "ipython",
    "version": 3
   },
   "file_extension": ".py",
   "mimetype": "text/x-python",
   "name": "python",
   "nbconvert_exporter": "python",
   "pygments_lexer": "ipython3",
   "version": "3.8.8"
  }
 },
 "nbformat": 4,
 "nbformat_minor": 5
}
