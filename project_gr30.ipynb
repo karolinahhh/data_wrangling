{
 "cells": [
  {
   "cell_type": "markdown",
   "id": "a252777b-eb45-488e-91a3-8e0051eae0dd",
   "metadata": {},
   "source": [
    "# Project group 30"
   ]
  },
  {
   "cell_type": "markdown",
   "id": "b46ddfce-7f22-42a9-9570-407dccc33bb1",
   "metadata": {},
   "source": [
    "# What is the correlation between a country's corruption perception index and their likelihood of being awarded a medal during the Olympic Games?"
   ]
  },
  {
   "cell_type": "code",
   "execution_count": 22,
   "id": "33d0fd4b-2275-4431-b29c-89452c7ad2a0",
   "metadata": {},
   "outputs": [],
   "source": [
    "#read necessary libraries \n",
    "import numpy as np\n",
    "import pandas as pd\n",
    "import pycountry\n",
    "import pycountry_convert as pcc\n",
    "from fuzzywuzzy import fuzz, process\n",
    "import matplotlib.pyplot as plt\n",
    "pd.options.display.max_rows = 20\n",
    "np.set_printoptions(precision = 4, suppress = True)"
   ]
  },
  {
   "cell_type": "markdown",
   "id": "acb26ef0-eaf5-4842-9d6e-edc4332aaf89",
   "metadata": {},
   "source": [
    "Necesarry installations:"
   ]
  },
  {
   "cell_type": "code",
   "execution_count": 4,
   "id": "b3f956b4-4e01-4a96-8955-d6232a8aa73c",
   "metadata": {},
   "outputs": [],
   "source": [
    "#pip install pycountry_convert\n",
    "#pip install fuzzywuzzy"
   ]
  },
  {
   "cell_type": "code",
   "execution_count": 5,
   "id": "ce6af863-5dae-448d-987f-8a59b73556fe",
   "metadata": {},
   "outputs": [],
   "source": [
    "#loading the csv files into dataframes\n",
    "population = 'population.csv'\n",
    "df_population= pd.read_csv(population)\n",
    "medals = 'medals.csv'\n",
    "df_medals= pd.read_csv(medals)\n",
    "cpi = 'cpi.csv'\n",
    "df_cpi= pd.read_csv(cpi)"
   ]
  },
  {
   "cell_type": "code",
   "execution_count": 6,
   "id": "c1db7e8a-bf3b-4a74-94cd-2d4c428705cf",
   "metadata": {},
   "outputs": [],
   "source": [
    "# Create a list of all unique countries in the dataframe\n",
    "countries = df_medals['Country'].unique().tolist()\n",
    "\n",
    "#Create a list of all standard country names\n",
    "countries_standard = [country.name for country in pycountry.countries]\n",
    "\n",
    "for i in range(len(df_medals)):\n",
    "    temp = df_medals['Country'][i]\n",
    "    country = 'c'\n",
    "    try:\n",
    "        country = pycountry.countries.lookup(temp)\n",
    "    except LookupError as e:\n",
    "        pass\n",
    "    if country == 'c':\n",
    "        try:\n",
    "            match = process.extractOne(str(temp), countries_standard, scorer=fuzz.token_sort_ratio)\n",
    "            if match[1] > 74:\n",
    "                c = pycountry.countries.get(name=match[0])\n",
    "                country_code=c.alpha_3\n",
    "                df_medals.loc[i, 'Country'] = country_code\n",
    "            else:\n",
    "                df_medals.loc[i, 'Country'] = None\n",
    "        except ValueError as e:\n",
    "            df_medals.loc[i, 'Country'] = None\n",
    "    else:\n",
    "        df_medals.loc[i, 'Country'] = country.alpha_3\n",
    "\n",
    "#manually converting few instances\n",
    "#Kosovo doesn't have ISO3\n",
    "df_medals.at[3, 'Country'] = 'GBR'\n",
    "df_medals.at[4, 'Country'] = 'RUS'\n",
    "df_medals.at[33, 'Country'] = 'TWN'"
   ]
  },
  {
   "cell_type": "markdown",
   "id": "2c056c4b-3b4e-4127-a838-4fd25061acd0",
   "metadata": {},
   "source": [
    "Display the original table with \"Gold Medal\", \"Silver Medal\" and \"Bronze Medal\" columns:"
   ]
  },
  {
   "cell_type": "code",
   "execution_count": 7,
   "id": "0641d8da-71dc-450d-8c6e-14c87aff6f99",
   "metadata": {},
   "outputs": [
    {
     "name": "stdout",
     "output_type": "stream",
     "text": [
      "   Country  Gold Medal  Silver Medal  Bronze Medal  Total  Rank By Total\n",
      "0      USA          39            41            33    113              1\n",
      "1      CHN          38            32            18     88              2\n",
      "2      JPN          27            14            17     58              5\n",
      "3      GBR          22            21            22     65              4\n",
      "4      RUS          20            28            23     71              3\n",
      "5      AUS          17             7            22     46              6\n",
      "6      NLD          10            12            14     36              9\n",
      "7      FRA          10            12            11     33             10\n",
      "8      DEU          10            11            16     37              8\n",
      "9      ITA          10            10            20     40              7\n",
      "10     CAN           7             6            11     24             11\n",
      "11     BRA           7             6             8     21             12\n",
      "12     NZL           7             6             7     20             13\n",
      "13     CUB           7             3             5     15             18\n",
      "14     HUN           6             7             7     20             13\n",
      "15     KOR           6             4            10     20             13\n",
      "16     POL           4             5             5     14             19\n",
      "17     CZE           4             4             3     11             23\n",
      "18     KEN           4             4             2     10             25\n",
      "19     NOR           4             2             2      8             29\n",
      "20     JAM           4             1             4      9             26\n",
      "21     ESP           3             8             6     17             17\n",
      "22     SWE           3             6             0      9             26\n",
      "23     CHE           3             4             6     13             20\n",
      "24     DNK           3             4             4     11             23\n",
      "25     HRV           3             3             2      8             29\n",
      "26     IRN           3             2             2      7             33\n",
      "27     SRB           3             1             5      9             26\n",
      "28     BEL           3             1             3      7             33\n",
      "29     BGR           3             1             2      6             39\n",
      "30     SVN           3             1             1      5             42\n",
      "31     UZB           3             0             2      5             42\n",
      "32     GEO           2             5             1      8             29\n",
      "33     TWN           2             4             6     12             22\n",
      "34     TUR           2             2             9     13             20\n",
      "35     GRC           2             1             1      4             47\n",
      "36     UGA           2             1             1      4             47\n",
      "37     ECU           2             1             0      3             60\n",
      "38     IRL           2             0             2      4             47\n",
      "39     ISR           2             0             2      4             47\n",
      "40     QAT           2             0             1      3             60\n",
      "41     BHS           2             0             0      2             66\n",
      "42    None           2             0             0      2             66\n",
      "43     UKR           1             6            12     19             16\n",
      "44     BLR           1             3             3      7             33\n",
      "45     ROU           1             3             0      4             47\n",
      "46     VEN           1             3             0      4             47\n",
      "47     IND           1             2             4      7             33\n",
      "48     HKG           1             2             3      6             39\n",
      "49     PHL           1             2             1      4             47\n",
      "50     SVK           1             2             1      4             47\n",
      "51     ZAF           1             2             0      3             60\n",
      "52     AUT           1             1             5      7             33\n",
      "53     EGY           1             1             4      6             39\n",
      "54     IDN           1             1             3      5             42\n",
      "55     ETH           1             1             2      4             47\n",
      "56     PRT           1             1             2      4             47\n",
      "57     TUN           1             1             0      2             66\n",
      "58     EST           1             0             1      2             66\n",
      "59     FJI           1             0             1      2             66\n",
      "60     LVA           1             0             1      2             66\n",
      "61     THA           1             0             1      2             66\n",
      "62     BMU           1             0             0      1             77\n",
      "63     MAR           1             0             0      1             77\n",
      "64     PRI           1             0             0      1             77\n",
      "65     COL           0             4             1      5             42\n",
      "66     AZE           0             3             4      7             33\n",
      "67     DOM           0             3             2      5             42\n",
      "68     ARM           0             2             2      4             47\n",
      "69     KGZ           0             2             1      3             60\n",
      "70     MNG           0             1             3      4             47\n",
      "71     ARG           0             1             2      3             60\n",
      "72     SMR           0             1             2      3             60\n",
      "73     JOR           0             1             1      2             66\n",
      "74     MYS           0             1             1      2             66\n",
      "75     NGA           0             1             1      2             66\n",
      "76     BHR           0             1             0      1             77\n",
      "77     SAU           0             1             0      1             77\n",
      "78     LTU           0             1             0      1             77\n",
      "79     MKD           0             1             0      1             77\n",
      "80     NAM           0             1             0      1             77\n",
      "81     TKM           0             1             0      1             77\n",
      "82     KAZ           0             0             8      8             29\n",
      "83     MEX           0             0             4      4             47\n",
      "84     FIN           0             0             2      2             66\n",
      "85     BWA           0             0             1      1             77\n",
      "86     BFA           0             0             1      1             77\n",
      "87     CIV           0             0             1      1             77\n",
      "88     GHA           0             0             1      1             77\n",
      "89     GRD           0             0             1      1             77\n",
      "90     KWT           0             0             1      1             77\n",
      "91     MDA           0             0             1      1             77\n",
      "92     SYR           0             0             1      1             77\n"
     ]
    }
   ],
   "source": [
    "with pd.option_context('display.max_rows', None, 'display.max_columns', None):  # more options can be specified also\n",
    "   print(df_medals)"
   ]
  },
  {
   "cell_type": "markdown",
   "id": "fc5ce40d-0716-4d15-9874-e5ceeadb45c4",
   "metadata": {},
   "source": [
    "# Methodology"
   ]
  },
  {
   "cell_type": "markdown",
   "id": "cd6dacad-200e-483b-937b-c212a7bc207f",
   "metadata": {},
   "source": [
    "Medals scoring system:\n",
    "    \n",
    "    GOLD - 3 points\n",
    "    SILVER - 2 points\n",
    "    BRONZE - 1 point\n"
   ]
  },
  {
   "cell_type": "code",
   "execution_count": 8,
   "id": "6365b66b-6acd-4db9-9d2e-d4bab87bd436",
   "metadata": {},
   "outputs": [],
   "source": [
    "#calculating the value of the medals earned\n",
    "medal_values=[]\n",
    "for i in range(len(df_medals)):\n",
    "    temp_g=df_medals['Gold Medal'][i]\n",
    "    #print(temp_g)\n",
    "    temp_s=df_medals['Silver Medal'][i]\n",
    "    temp_b=df_medals['Bronze Medal'][i]\n",
    "    value=(temp_g*3)+(temp_s*2)+temp_b\n",
    "    medal_values.append(value)\n",
    "df_medals[\"Medal Value\"] = medal_values"
   ]
  },
  {
   "cell_type": "code",
   "execution_count": 9,
   "id": "bff23a35-8ace-41bb-b9c2-5873b8420314",
   "metadata": {},
   "outputs": [],
   "source": [
    "#merging medal df with population df\n",
    "df_merged1 = pd.merge(df_medals, df_population, left_on='Country', right_on='CCA3')\n",
    "\n",
    "#calculation medal value per million inhabitants\n",
    "medals_per_million=[]\n",
    "for i in range(len(df_merged1)):\n",
    "    medal_adjusted = df_merged1['Medal Value'][i]/(df_merged1['2020 Population'][i]/1000000) \n",
    "    medals_per_million.append(medal_adjusted)\n",
    "df_merged1[\"Medals per million\"] = medals_per_million\n",
    "\n",
    "#merging the resulting df with cpi df\n",
    "df_merged2 = pd.merge(df_merged1, df_cpi, left_on='Country', right_on='ISO3')\n",
    "df_merged2\n",
    "df = df_merged2[['Country_x','Medal Value', 'Medals per million','2020 Population', 'CPI score 2019']]"
   ]
  },
  {
   "cell_type": "markdown",
   "id": "c5304dc8-2f50-464e-a76f-ea9e20111a4a",
   "metadata": {},
   "source": [
    "Display a modified table with the weighted values of medals:"
   ]
  },
  {
   "cell_type": "code",
   "execution_count": 40,
   "id": "9c0ad711-b870-43cd-8f08-9e2883b25cd8",
   "metadata": {},
   "outputs": [
    {
     "data": {
      "text/html": [
       "<div>\n",
       "<style scoped>\n",
       "    .dataframe tbody tr th:only-of-type {\n",
       "        vertical-align: middle;\n",
       "    }\n",
       "\n",
       "    .dataframe tbody tr th {\n",
       "        vertical-align: top;\n",
       "    }\n",
       "\n",
       "    .dataframe thead th {\n",
       "        text-align: right;\n",
       "    }\n",
       "</style>\n",
       "<table border=\"1\" class=\"dataframe\">\n",
       "  <thead>\n",
       "    <tr style=\"text-align: right;\">\n",
       "      <th></th>\n",
       "      <th>Country_x</th>\n",
       "      <th>Medal Value</th>\n",
       "      <th>Medals per million</th>\n",
       "      <th>2020 Population</th>\n",
       "      <th>CPI score 2019</th>\n",
       "    </tr>\n",
       "  </thead>\n",
       "  <tbody>\n",
       "    <tr>\n",
       "      <th>0</th>\n",
       "      <td>USA</td>\n",
       "      <td>232</td>\n",
       "      <td>0.690595</td>\n",
       "      <td>335942003</td>\n",
       "      <td>69</td>\n",
       "    </tr>\n",
       "    <tr>\n",
       "      <th>1</th>\n",
       "      <td>CHN</td>\n",
       "      <td>196</td>\n",
       "      <td>0.137551</td>\n",
       "      <td>1424929781</td>\n",
       "      <td>41</td>\n",
       "    </tr>\n",
       "    <tr>\n",
       "      <th>2</th>\n",
       "      <td>JPN</td>\n",
       "      <td>126</td>\n",
       "      <td>1.006030</td>\n",
       "      <td>125244761</td>\n",
       "      <td>73</td>\n",
       "    </tr>\n",
       "    <tr>\n",
       "      <th>3</th>\n",
       "      <td>GBR</td>\n",
       "      <td>130</td>\n",
       "      <td>1.938578</td>\n",
       "      <td>67059474</td>\n",
       "      <td>77</td>\n",
       "    </tr>\n",
       "    <tr>\n",
       "      <th>4</th>\n",
       "      <td>RUS</td>\n",
       "      <td>139</td>\n",
       "      <td>0.954557</td>\n",
       "      <td>145617329</td>\n",
       "      <td>28</td>\n",
       "    </tr>\n",
       "    <tr>\n",
       "      <th>...</th>\n",
       "      <td>...</td>\n",
       "      <td>...</td>\n",
       "      <td>...</td>\n",
       "      <td>...</td>\n",
       "      <td>...</td>\n",
       "    </tr>\n",
       "    <tr>\n",
       "      <th>83</th>\n",
       "      <td>GHA</td>\n",
       "      <td>1</td>\n",
       "      <td>0.031075</td>\n",
       "      <td>32180401</td>\n",
       "      <td>41</td>\n",
       "    </tr>\n",
       "    <tr>\n",
       "      <th>84</th>\n",
       "      <td>GRD</td>\n",
       "      <td>1</td>\n",
       "      <td>8.086493</td>\n",
       "      <td>123663</td>\n",
       "      <td>53</td>\n",
       "    </tr>\n",
       "    <tr>\n",
       "      <th>85</th>\n",
       "      <td>KWT</td>\n",
       "      <td>1</td>\n",
       "      <td>0.229334</td>\n",
       "      <td>4360444</td>\n",
       "      <td>40</td>\n",
       "    </tr>\n",
       "    <tr>\n",
       "      <th>86</th>\n",
       "      <td>MDA</td>\n",
       "      <td>1</td>\n",
       "      <td>0.324165</td>\n",
       "      <td>3084847</td>\n",
       "      <td>32</td>\n",
       "    </tr>\n",
       "    <tr>\n",
       "      <th>87</th>\n",
       "      <td>SYR</td>\n",
       "      <td>1</td>\n",
       "      <td>0.048140</td>\n",
       "      <td>20772595</td>\n",
       "      <td>13</td>\n",
       "    </tr>\n",
       "  </tbody>\n",
       "</table>\n",
       "<p>88 rows × 5 columns</p>\n",
       "</div>"
      ],
      "text/plain": [
       "   Country_x  Medal Value  Medals per million  2020 Population  CPI score 2019\n",
       "0        USA          232            0.690595        335942003              69\n",
       "1        CHN          196            0.137551       1424929781              41\n",
       "2        JPN          126            1.006030        125244761              73\n",
       "3        GBR          130            1.938578         67059474              77\n",
       "4        RUS          139            0.954557        145617329              28\n",
       "..       ...          ...                 ...              ...             ...\n",
       "83       GHA            1            0.031075         32180401              41\n",
       "84       GRD            1            8.086493           123663              53\n",
       "85       KWT            1            0.229334          4360444              40\n",
       "86       MDA            1            0.324165          3084847              32\n",
       "87       SYR            1            0.048140         20772595              13\n",
       "\n",
       "[88 rows x 5 columns]"
      ]
     },
     "execution_count": 40,
     "metadata": {},
     "output_type": "execute_result"
    }
   ],
   "source": [
    "df"
   ]
  },
  {
   "cell_type": "markdown",
   "id": "a81ea931-f0c8-45fc-8270-4ca3e7b53966",
   "metadata": {},
   "source": [
    "# Visualizations"
   ]
  },
  {
   "cell_type": "code",
   "execution_count": 69,
   "id": "2ed9b03c-6ee2-418b-80f3-fb993a2fbb5f",
   "metadata": {},
   "outputs": [
    {
     "data": {
      "text/plain": [
       "[<matplotlib.lines.Line2D at 0x1f3eaebf160>]"
      ]
     },
     "execution_count": 69,
     "metadata": {},
     "output_type": "execute_result"
    },
    {
     "data": {
      "image/png": "[encoded data removed]",
      "text/plain": [
       "<Figure size 640x480 with 1 Axes>"
      ]
     },
     "metadata": {},
     "output_type": "display_data"
    }
   ],
   "source": [
    "\n",
    "df_no_outliers = df[df['Medals per million']<12]\n",
    "\n",
    "df_no_outliers.plot.scatter(x='CPI score 2019',y='Medals per million')\n",
    "z = np.polyfit(df_no_outliers['CPI score 2019'], df_no_outliers['Medals per million'], 1)\n",
    "p = np.poly1d(z)\n",
    "plt.plot(df_no_outliers['CPI score 2019'],p(df_no_outliers['CPI score 2019']), 'k', alpha=0.75)\n"
   ]
  }
 ],
 "metadata": {
  "kernelspec": {
   "display_name": "Python 3",
   "language": "python",
   "name": "python3"
  },
  "language_info": {
   "codemirror_mode": {
    "name": "ipython",
    "version": 3
   },
   "file_extension": ".py",
   "mimetype": "text/x-python",
   "name": "python",
   "nbconvert_exporter": "python",
   "pygments_lexer": "ipython3",
   "version": "3.8.4"
  },
  "vscode": {
   "interpreter": {
    "hash": "6bb11841ea5c50678b42ce4c20025b18122a49a630cb61e0881a9dc4744106e9"
   }
  }
 },
 "nbformat": 4,
 "nbformat_minor": 5
}
