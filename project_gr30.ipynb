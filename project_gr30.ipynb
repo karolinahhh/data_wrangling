{
 "cells": [
  {
   "cell_type": "markdown",
   "id": "a252777b-eb45-488e-91a3-8e0051eae0dd",
   "metadata": {},
   "source": [
    "# Project group 30"
   ]
  },
  {
   "cell_type": "code",
   "execution_count": 1,
   "id": "33d0fd4b-2275-4431-b29c-89452c7ad2a0",
   "metadata": {},
   "outputs": [],
   "source": [
    "import numpy as np\n",
    "import pandas as pd\n",
    "pd.options.display.max_rows = 20\n",
    "np.set_printoptions(precision = 4, suppress = True)"
   ]
  },
  {
   "cell_type": "code",
   "execution_count": 2,
   "id": "b5149938-9670-4552-a341-069dfe6e7ec8",
   "metadata": {},
   "outputs": [],
   "source": [
    "#pip install pycountry_convert\n",
    "from pycountry_convert import country_name_to_country_alpha2"
   ]
  },
  {
   "cell_type": "code",
   "execution_count": 3,
   "id": "ce6af863-5dae-448d-987f-8a59b73556fe",
   "metadata": {},
   "outputs": [],
   "source": [
    "population = 'population.csv'\n",
    "df_population= pd.read_csv(population)\n",
    "medals = 'medals.csv'\n",
    "df_medals= pd.read_csv(medals)\n",
    "cpi = 'cpi.csv'\n",
    "df_cpi= pd.read_csv(cpi)\n",
    "\n",
    "#df_population"
   ]
  },
  {
   "cell_type": "code",
   "execution_count": 6,
   "id": "7a980e99-3d45-4fe3-9aab-6283f04327d4",
   "metadata": {},
   "outputs": [
    {
     "name": "stdout",
     "output_type": "stream",
     "text": [
      "0      CN\n",
      "1      IN\n",
      "2      US\n",
      "3      ID\n",
      "4      PK\n",
      "       ..\n",
      "230    MS\n",
      "231    FK\n",
      "232    NU\n",
      "233    TK\n",
      "234    CL\n",
      "Name: Country (or dependency), Length: 235, dtype: object\n"
     ]
    }
   ],
   "source": [
    "import pycountry\n",
    "import pycountry_convert as pcc\n",
    "from fuzzywuzzy import fuzz, process\n",
    "\n",
    "# Create a list of all unique countries in the dataframe\n",
    "countries = df_population['Country (or dependency)'].unique().tolist()\n",
    "#print(countries)\n",
    "\n",
    "#Create a list of all standard country names\n",
    "countries_standard = [country.name for country in pycountry.countries]\n",
    "#print(countries_standard)\n",
    "\n",
    "for i in range(len(df_population)):\n",
    "    temp = df_population['Country (or dependency)'][i]\n",
    "    country = 'c'\n",
    "    try:\n",
    "        #print(pycountry.countries.lookup(temp))\n",
    "        country = pycountry.countries.lookup(temp)\n",
    "        #print(country)\n",
    "    except LookupError as e:\n",
    "        print('a')\n",
    "        #continue\n",
    "    if country == 'c':\n",
    "        #print('k')\n",
    "        try:\n",
    "            match = process.extractOne(str(temp), countries_standard, scorer=fuzz.token_sort_ratio)\n",
    "            #print('kk')\n",
    "            if match[1] > 20:\n",
    "                country_code = pcc.country_name_to_country_alpha2(match[0])\n",
    "                df_population.loc[i, 'Country (or dependency)'] = country_code\n",
    "            else:\n",
    "                df_population.loc[i, 'Country (or dependency)'] = None\n",
    "        except ValueError as e:\n",
    "            df_population.loc[i, 'Country (or dependency)'] = None\n",
    "    else:\n",
    "        df_population.loc[i, 'Country (or dependency)'] = country.alpha_2\n",
    "    \n",
    "#print(countries)\n",
    "print(df_population['Country (or dependency)'])"
   ]
  },
  {
   "cell_type": "code",
   "execution_count": null,
   "id": "b8eb9be3-4e2e-4371-8da5-78e632e5291a",
   "metadata": {},
   "outputs": [],
   "source": []
  },
  {
   "cell_type": "code",
   "execution_count": null,
   "id": "79df2291-cfcd-49c3-97ad-f21f4a670581",
   "metadata": {},
   "outputs": [],
   "source": []
  },
  {
   "cell_type": "code",
   "execution_count": null,
   "id": "61075016-b7a8-45c4-83da-06d21af5b1eb",
   "metadata": {},
   "outputs": [],
   "source": []
  }
 ],
 "metadata": {
  "kernelspec": {
   "display_name": "Python 3 (ipykernel)",
   "language": "python",
   "name": "python3"
  },
  "language_info": {
   "codemirror_mode": {
    "name": "ipython",
    "version": 3
   },
   "file_extension": ".py",
   "mimetype": "text/x-python",
   "name": "python",
   "nbconvert_exporter": "python",
   "pygments_lexer": "ipython3",
   "version": "3.9.7"
  }
 },
 "nbformat": 4,
 "nbformat_minor": 5
}
