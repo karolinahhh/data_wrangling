{
 "cells": [
  {
   "cell_type": "markdown",
   "id": "a252777b-eb45-488e-91a3-8e0051eae0dd",
   "metadata": {},
   "source": [
    "# Project group 30"
   ]
  },
  {
   "cell_type": "markdown",
   "id": "b46ddfce-7f22-42a9-9570-407dccc33bb1",
   "metadata": {},
   "source": [
    "# What is the correlation between a country's corruption perception index and their likelihood of being awarded a medal during the Olympic Games?"
   ]
  },
  {
   "cell_type": "code",
   "execution_count": 72,
   "id": "33d0fd4b-2275-4431-b29c-89452c7ad2a0",
   "metadata": {},
   "outputs": [],
   "source": [
    "#read necessary libraries \n",
    "import numpy as np\n",
    "import pandas as pd\n",
    "import pycountry\n",
    "import pycountry_convert as pcc\n",
    "from fuzzywuzzy import fuzz, process\n",
    "import matplotlib.pyplot as plt\n",
    "pd.options.display.max_rows = 20\n",
    "np.set_printoptions(precision = 4, suppress = True)\n",
    "#ignore SettingWithCopyWarning: this is a known issue with pandas\n",
    "pd.options.mode.chained_assignment = None"
   ]
  },
  {
   "cell_type": "markdown",
   "id": "acb26ef0-eaf5-4842-9d6e-edc4332aaf89",
   "metadata": {},
   "source": [
    "Necesarry installations:"
   ]
  },
  {
   "cell_type": "code",
   "execution_count": 73,
   "id": "b3f956b4-4e01-4a96-8955-d6232a8aa73c",
   "metadata": {},
   "outputs": [],
   "source": [
    "#pip install pycountry_convert\n",
    "#pip install fuzzywuzzy"
   ]
  },
  {
   "cell_type": "code",
   "execution_count": 74,
   "id": "ce6af863-5dae-448d-987f-8a59b73556fe",
   "metadata": {},
   "outputs": [],
   "source": [
    "#loading the csv files into dataframes\n",
    "population = 'population.csv'\n",
    "df_population= pd.read_csv(population)\n",
    "medals = 'medals.csv'\n",
    "df_medals= pd.read_csv(medals)\n",
    "cpi = 'cpi.csv'\n",
    "df_cpi= pd.read_csv(cpi)\n",
    "df_happiness = pd.read_csv('world-happiness-report-2021.csv')\n",
    "df_population_density = pd.read_csv('population_by_country_2020.csv')\n",
    "df_drinking = pd.read_csv('drinks.csv')\n",
    "factors_of_interest = []"
   ]
  },
  {
   "cell_type": "code",
   "execution_count": 75,
   "id": "8fdadbc4",
   "metadata": {},
   "outputs": [],
   "source": [
    "\n",
    "def normalize_countries(dataframe, name_country_column):\n",
    "\n",
    "    # Create a list of all unique countries in the dataframe\n",
    "\n",
    "    countries = dataframe[name_country_column].unique().tolist()\n",
    "\n",
    "    #Create a list of all standard country names\n",
    "    countries_standard = [country.name for country in pycountry.countries]\n",
    "\n",
    "    for i in range(len(dataframe)):\n",
    "        temp = dataframe[name_country_column][i]\n",
    "        country = 'c'\n",
    "        try:\n",
    "            country = pycountry.countries.lookup(temp)\n",
    "        except LookupError as e:\n",
    "            pass\n",
    "        if country == 'c':\n",
    "            try:\n",
    "                match = process.extractOne(str(temp), countries_standard, scorer=fuzz.token_sort_ratio)\n",
    "                if match[1] > 74:\n",
    "                    c = pycountry.countries.get(name=match[0])\n",
    "                    country_code=c.alpha_3\n",
    "                    dataframe.loc[i, name_country_column] = country_code\n",
    "                else:\n",
    "                    dataframe.loc[i, name_country_column] = None\n",
    "            except ValueError as e:\n",
    "                dataframe.loc[i, name_country_column] = None\n",
    "        else:\n",
    "            dataframe.loc[i, name_country_column] = country.alpha_3\n"
   ]
  },
  {
   "cell_type": "code",
   "execution_count": 76,
   "id": "c9c9e339",
   "metadata": {},
   "outputs": [],
   "source": [
    "normalize_countries(df_medals, 'Country')\n",
    "\n",
    "#manually converting few instances\n",
    "#Kosovo doesn't have ISO3\n",
    "df_medals.at[3, 'Country'] = 'GBR'\n",
    "df_medals.at[4, 'Country'] = 'RUS'\n",
    "df_medals.at[33, 'Country'] = 'TWN'\n"
   ]
  },
  {
   "cell_type": "markdown",
   "id": "2c056c4b-3b4e-4127-a838-4fd25061acd0",
   "metadata": {},
   "source": [
    "Display the original table with \"Gold Medal\", \"Silver Medal\" and \"Bronze Medal\" columns:"
   ]
  },
  {
   "cell_type": "code",
   "execution_count": 77,
   "id": "0641d8da-71dc-450d-8c6e-14c87aff6f99",
   "metadata": {},
   "outputs": [
    {
     "name": "stdout",
     "output_type": "stream",
     "text": [
      "   Country  Gold Medal  Silver Medal  Bronze Medal  Total  Rank By Total\n",
      "0      USA          39            41            33    113              1\n",
      "1      CHN          38            32            18     88              2\n",
      "2      JPN          27            14            17     58              5\n",
      "3      GBR          22            21            22     65              4\n",
      "4      RUS          20            28            23     71              3\n",
      "5      AUS          17             7            22     46              6\n",
      "6      NLD          10            12            14     36              9\n",
      "7      FRA          10            12            11     33             10\n",
      "8      DEU          10            11            16     37              8\n",
      "9      ITA          10            10            20     40              7\n",
      "10     CAN           7             6            11     24             11\n",
      "11     BRA           7             6             8     21             12\n",
      "12     NZL           7             6             7     20             13\n",
      "13     CUB           7             3             5     15             18\n",
      "14     HUN           6             7             7     20             13\n",
      "15     KOR           6             4            10     20             13\n",
      "16     POL           4             5             5     14             19\n",
      "17     CZE           4             4             3     11             23\n",
      "18     KEN           4             4             2     10             25\n",
      "19     NOR           4             2             2      8             29\n",
      "20     JAM           4             1             4      9             26\n",
      "21     ESP           3             8             6     17             17\n",
      "22     SWE           3             6             0      9             26\n",
      "23     CHE           3             4             6     13             20\n",
      "24     DNK           3             4             4     11             23\n",
      "25     HRV           3             3             2      8             29\n",
      "26     IRN           3             2             2      7             33\n",
      "27     SRB           3             1             5      9             26\n",
      "28     BEL           3             1             3      7             33\n",
      "29     BGR           3             1             2      6             39\n",
      "30     SVN           3             1             1      5             42\n",
      "31     UZB           3             0             2      5             42\n",
      "32     GEO           2             5             1      8             29\n",
      "33     TWN           2             4             6     12             22\n",
      "34     TUR           2             2             9     13             20\n",
      "35     GRC           2             1             1      4             47\n",
      "36     UGA           2             1             1      4             47\n",
      "37     ECU           2             1             0      3             60\n",
      "38     IRL           2             0             2      4             47\n",
      "39     ISR           2             0             2      4             47\n",
      "40     QAT           2             0             1      3             60\n",
      "41     BHS           2             0             0      2             66\n",
      "42    None           2             0             0      2             66\n",
      "43     UKR           1             6            12     19             16\n",
      "44     BLR           1             3             3      7             33\n",
      "45     ROU           1             3             0      4             47\n",
      "46     VEN           1             3             0      4             47\n",
      "47     IND           1             2             4      7             33\n",
      "48     HKG           1             2             3      6             39\n",
      "49     PHL           1             2             1      4             47\n",
      "50     SVK           1             2             1      4             47\n",
      "51     ZAF           1             2             0      3             60\n",
      "52     AUT           1             1             5      7             33\n",
      "53     EGY           1             1             4      6             39\n",
      "54     IDN           1             1             3      5             42\n",
      "55     ETH           1             1             2      4             47\n",
      "56     PRT           1             1             2      4             47\n",
      "57     TUN           1             1             0      2             66\n",
      "58     EST           1             0             1      2             66\n",
      "59     FJI           1             0             1      2             66\n",
      "60     LVA           1             0             1      2             66\n",
      "61     THA           1             0             1      2             66\n",
      "62     BMU           1             0             0      1             77\n",
      "63     MAR           1             0             0      1             77\n",
      "64     PRI           1             0             0      1             77\n",
      "65     COL           0             4             1      5             42\n",
      "66     AZE           0             3             4      7             33\n",
      "67     DOM           0             3             2      5             42\n",
      "68     ARM           0             2             2      4             47\n",
      "69     KGZ           0             2             1      3             60\n",
      "70     MNG           0             1             3      4             47\n",
      "71     ARG           0             1             2      3             60\n",
      "72     SMR           0             1             2      3             60\n",
      "73     JOR           0             1             1      2             66\n",
      "74     MYS           0             1             1      2             66\n",
      "75     NGA           0             1             1      2             66\n",
      "76     BHR           0             1             0      1             77\n",
      "77     SAU           0             1             0      1             77\n",
      "78     LTU           0             1             0      1             77\n",
      "79     MKD           0             1             0      1             77\n",
      "80     NAM           0             1             0      1             77\n",
      "81     TKM           0             1             0      1             77\n",
      "82     KAZ           0             0             8      8             29\n",
      "83     MEX           0             0             4      4             47\n",
      "84     FIN           0             0             2      2             66\n",
      "85     BWA           0             0             1      1             77\n",
      "86     BFA           0             0             1      1             77\n",
      "87     CIV           0             0             1      1             77\n",
      "88     GHA           0             0             1      1             77\n",
      "89     GRD           0             0             1      1             77\n",
      "90     KWT           0             0             1      1             77\n",
      "91     MDA           0             0             1      1             77\n",
      "92     SYR           0             0             1      1             77\n"
     ]
    }
   ],
   "source": [
    "with pd.option_context('display.max_rows', None, 'display.max_columns', None):  # more options can be specified also\n",
    "   print(df_medals)"
   ]
  },
  {
   "cell_type": "markdown",
   "id": "fc5ce40d-0716-4d15-9874-e5ceeadb45c4",
   "metadata": {},
   "source": [
    "# Methodology"
   ]
  },
  {
   "cell_type": "markdown",
   "id": "cd6dacad-200e-483b-937b-c212a7bc207f",
   "metadata": {},
   "source": [
    "Medals scoring system:\n",
    "    \n",
    "    GOLD - 3 points\n",
    "    SILVER - 2 points\n",
    "    BRONZE - 1 point\n"
   ]
  },
  {
   "cell_type": "code",
   "execution_count": 78,
   "id": "6365b66b-6acd-4db9-9d2e-d4bab87bd436",
   "metadata": {},
   "outputs": [],
   "source": [
    "#calculating the value of the medals earned\n",
    "medal_values=[]\n",
    "for i in range(len(df_medals)):\n",
    "    temp_g=df_medals['Gold Medal'][i]\n",
    "    #print(temp_g)\n",
    "    temp_s=df_medals['Silver Medal'][i]\n",
    "    temp_b=df_medals['Bronze Medal'][i]\n",
    "    value=(temp_g*3)+(temp_s*2)+temp_b\n",
    "    medal_values.append(value)\n",
    "df_medals[\"Medal Value\"] = medal_values"
   ]
  },
  {
   "cell_type": "code",
   "execution_count": 79,
   "id": "bff23a35-8ace-41bb-b9c2-5873b8420314",
   "metadata": {},
   "outputs": [
    {
     "data": {
      "text/html": [
       "<div>\n",
       "<style scoped>\n",
       "    .dataframe tbody tr th:only-of-type {\n",
       "        vertical-align: middle;\n",
       "    }\n",
       "\n",
       "    .dataframe tbody tr th {\n",
       "        vertical-align: top;\n",
       "    }\n",
       "\n",
       "    .dataframe thead th {\n",
       "        text-align: right;\n",
       "    }\n",
       "</style>\n",
       "<table border=\"1\" class=\"dataframe\">\n",
       "  <thead>\n",
       "    <tr style=\"text-align: right;\">\n",
       "      <th></th>\n",
       "      <th>Country_x</th>\n",
       "      <th>Medal Value</th>\n",
       "      <th>Medals per million</th>\n",
       "      <th>2020 Population</th>\n",
       "      <th>CPI score 2019</th>\n",
       "    </tr>\n",
       "  </thead>\n",
       "  <tbody>\n",
       "    <tr>\n",
       "      <th>0</th>\n",
       "      <td>USA</td>\n",
       "      <td>232</td>\n",
       "      <td>0.690595</td>\n",
       "      <td>335942003</td>\n",
       "      <td>69.0</td>\n",
       "    </tr>\n",
       "    <tr>\n",
       "      <th>1</th>\n",
       "      <td>CHN</td>\n",
       "      <td>196</td>\n",
       "      <td>0.137551</td>\n",
       "      <td>1424929781</td>\n",
       "      <td>41.0</td>\n",
       "    </tr>\n",
       "    <tr>\n",
       "      <th>2</th>\n",
       "      <td>JPN</td>\n",
       "      <td>126</td>\n",
       "      <td>1.006030</td>\n",
       "      <td>125244761</td>\n",
       "      <td>73.0</td>\n",
       "    </tr>\n",
       "    <tr>\n",
       "      <th>3</th>\n",
       "      <td>GBR</td>\n",
       "      <td>130</td>\n",
       "      <td>1.938578</td>\n",
       "      <td>67059474</td>\n",
       "      <td>77.0</td>\n",
       "    </tr>\n",
       "    <tr>\n",
       "      <th>4</th>\n",
       "      <td>RUS</td>\n",
       "      <td>139</td>\n",
       "      <td>0.954557</td>\n",
       "      <td>145617329</td>\n",
       "      <td>28.0</td>\n",
       "    </tr>\n",
       "    <tr>\n",
       "      <th>...</th>\n",
       "      <td>...</td>\n",
       "      <td>...</td>\n",
       "      <td>...</td>\n",
       "      <td>...</td>\n",
       "      <td>...</td>\n",
       "    </tr>\n",
       "    <tr>\n",
       "      <th>87</th>\n",
       "      <td>GHA</td>\n",
       "      <td>1</td>\n",
       "      <td>0.031075</td>\n",
       "      <td>32180401</td>\n",
       "      <td>41.0</td>\n",
       "    </tr>\n",
       "    <tr>\n",
       "      <th>88</th>\n",
       "      <td>GRD</td>\n",
       "      <td>1</td>\n",
       "      <td>8.086493</td>\n",
       "      <td>123663</td>\n",
       "      <td>53.0</td>\n",
       "    </tr>\n",
       "    <tr>\n",
       "      <th>89</th>\n",
       "      <td>KWT</td>\n",
       "      <td>1</td>\n",
       "      <td>0.229334</td>\n",
       "      <td>4360444</td>\n",
       "      <td>40.0</td>\n",
       "    </tr>\n",
       "    <tr>\n",
       "      <th>90</th>\n",
       "      <td>MDA</td>\n",
       "      <td>1</td>\n",
       "      <td>0.324165</td>\n",
       "      <td>3084847</td>\n",
       "      <td>32.0</td>\n",
       "    </tr>\n",
       "    <tr>\n",
       "      <th>91</th>\n",
       "      <td>SYR</td>\n",
       "      <td>1</td>\n",
       "      <td>0.048140</td>\n",
       "      <td>20772595</td>\n",
       "      <td>13.0</td>\n",
       "    </tr>\n",
       "  </tbody>\n",
       "</table>\n",
       "<p>92 rows × 5 columns</p>\n",
       "</div>"
      ],
      "text/plain": [
       "   Country_x  Medal Value  Medals per million  2020 Population  CPI score 2019\n",
       "0        USA          232            0.690595        335942003            69.0\n",
       "1        CHN          196            0.137551       1424929781            41.0\n",
       "2        JPN          126            1.006030        125244761            73.0\n",
       "3        GBR          130            1.938578         67059474            77.0\n",
       "4        RUS          139            0.954557        145617329            28.0\n",
       "..       ...          ...                 ...              ...             ...\n",
       "87       GHA            1            0.031075         32180401            41.0\n",
       "88       GRD            1            8.086493           123663            53.0\n",
       "89       KWT            1            0.229334          4360444            40.0\n",
       "90       MDA            1            0.324165          3084847            32.0\n",
       "91       SYR            1            0.048140         20772595            13.0\n",
       "\n",
       "[92 rows x 5 columns]"
      ]
     },
     "execution_count": 79,
     "metadata": {},
     "output_type": "execute_result"
    }
   ],
   "source": [
    "#merging medal df with population df\n",
    "df_merged1 = pd.merge(df_medals, df_population, left_on='Country', right_on='CCA3')\n",
    "\n",
    "#calculation medal value per million inhabitants\n",
    "medals_per_million=[]\n",
    "for i in range(len(df_merged1)):\n",
    "    medal_adjusted = df_merged1['Medal Value'][i]/(df_merged1['2020 Population'][i]/1000000) \n",
    "    medals_per_million.append(medal_adjusted)\n",
    "df_merged1[\"Medals per million\"] = medals_per_million\n",
    "\n",
    "#merging the resulting df with cpi df\n",
    "df_merged2 = pd.merge(df_merged1, df_cpi, left_on='Country', right_on='ISO3', how='left')\n",
    "df_merged2\n",
    "df = df_merged2[['Country_x','Medal Value', 'Medals per million','2020 Population', 'CPI score 2019']]\n",
    "\n",
    "factors_of_interest += ['CPI score 2019']\n",
    "df"
   ]
  },
  {
   "cell_type": "markdown",
   "id": "37e6a37e",
   "metadata": {},
   "source": [
    "Merging dataframe with Alcohol Consumption"
   ]
  },
  {
   "cell_type": "code",
   "execution_count": 80,
   "id": "d4c330d5",
   "metadata": {},
   "outputs": [],
   "source": [
    "#preparing data\n",
    "normalize_countries(df_drinking, 'country')\n",
    "df_drinking = df_drinking[['country', 'total_litres_of_pure_alcohol']]\n",
    "df_drinking.rename(columns = {'total_litres_of_pure_alcohol':'Alcohol Consumed (L/P/Y)'}, inplace = True)\n",
    "\n",
    "#merging\n",
    "df = pd.merge(df, df_drinking, left_on='Country_x', right_on='country', how='left')\n",
    "df = df.drop(columns=['country'])\n",
    "\n",
    "factors_of_interest += ['Alcohol Consumed (L/P/Y)']\n"
   ]
  },
  {
   "cell_type": "markdown",
   "id": "9be0adec",
   "metadata": {},
   "source": [
    "Adding happiness levels to the dataframe"
   ]
  },
  {
   "cell_type": "code",
   "execution_count": 81,
   "id": "f5d72048",
   "metadata": {},
   "outputs": [],
   "source": [
    "#preparing the dataframe\n",
    "df_happiness.rename(columns = {'Ladder score':'Happiness score'}, inplace = True)\n",
    "df_happiness = df_happiness[['Country name', 'Happiness score']]\n",
    "normalize_countries(df_happiness, 'Country name')\n",
    "\n",
    "\n",
    "#manually converting some names\n",
    "df_happiness.at[75, 'Country name'] = 'RUS'\n",
    "df_happiness.at[117, 'Country name'] = 'IRN'\n",
    "df_happiness.at[76, 'Country name'] = 'HKG'\n",
    "df_happiness.at[84, 'Country name'] = 'CIV'\n",
    "\n",
    "#merging\n",
    "df = pd.merge(df, df_happiness, left_on='Country_x', right_on='Country name', how='left')\n",
    "df = df.drop(columns=['Country name'])\n",
    "\n",
    "factors_of_interest += ['Happiness score']\n"
   ]
  },
  {
   "cell_type": "markdown",
   "id": "d825f9b2",
   "metadata": {},
   "source": [
    "Adding population density to the dataframe"
   ]
  },
  {
   "cell_type": "code",
   "execution_count": 82,
   "id": "dc90bdaf",
   "metadata": {},
   "outputs": [],
   "source": [
    "#preparing dataframe\n",
    "df_population_density.rename(columns = {'Country (or dependency)':'Countries'}, inplace = True)\n",
    "df_population_density.rename(columns = {'Density (P/Km²)':'Population Density (P/Km²)'}, inplace = True)\n",
    "\n",
    "df_population_density = df_population_density[['Countries', 'Population Density (P/Km²)', 'Med. Age', 'Urban Pop %']]\n",
    "\n",
    "\n",
    "\n",
    "#manually converting some data to required format\n",
    "df_population_density.at[8, 'Countries'] = 'RUS'\n",
    "df_population_density.at[85, 'Countries'] = 'CZE'\n",
    "df_population_density.at[17, 'Countries'] = 'IRN'\n",
    "df_population_density.at[67, 'Countries'] = 'SYR'\n",
    "\n",
    "\n",
    "\n",
    "normalize_countries(df_population_density, 'Countries')\n",
    "\n",
    "#merging\n",
    "df = pd.merge(df, df_population_density, left_on='Country_x', right_on='Countries', how='left')\n",
    "df = df.drop(columns=['Countries'])\n",
    "\n",
    "#stripping and converting data for use\n",
    "df.replace(' %', '', regex=True, inplace=True)\n",
    "df = df[df['Urban Pop %']!= 'N.A.']\n",
    "df = df[df['Med. Age']!= 'N.A.']\n",
    "df = df.astype({'Med. Age':'int'})\n",
    "df = df.astype({'Urban Pop %':'int'})\n",
    "factors_of_interest += ['Population Density (P/Km²)', 'Med. Age', 'Urban Pop %']\n"
   ]
  },
  {
   "cell_type": "markdown",
   "id": "c5304dc8-2f50-464e-a76f-ea9e20111a4a",
   "metadata": {},
   "source": [
    "Display a modified table with the weighted values of medals:"
   ]
  },
  {
   "cell_type": "code",
   "execution_count": 83,
   "id": "9c0ad711-b870-43cd-8f08-9e2883b25cd8",
   "metadata": {},
   "outputs": [
    {
     "data": {
      "text/html": [
       "<div>\n",
       "<style scoped>\n",
       "    .dataframe tbody tr th:only-of-type {\n",
       "        vertical-align: middle;\n",
       "    }\n",
       "\n",
       "    .dataframe tbody tr th {\n",
       "        vertical-align: top;\n",
       "    }\n",
       "\n",
       "    .dataframe thead th {\n",
       "        text-align: right;\n",
       "    }\n",
       "</style>\n",
       "<table border=\"1\" class=\"dataframe\">\n",
       "  <thead>\n",
       "    <tr style=\"text-align: right;\">\n",
       "      <th></th>\n",
       "      <th>Country_x</th>\n",
       "      <th>Medal Value</th>\n",
       "      <th>Medals per million</th>\n",
       "      <th>2020 Population</th>\n",
       "      <th>CPI score 2019</th>\n",
       "      <th>Alcohol Consumed (L/P/Y)</th>\n",
       "      <th>Happiness score</th>\n",
       "      <th>Population Density (P/Km²)</th>\n",
       "      <th>Med. Age</th>\n",
       "      <th>Urban Pop %</th>\n",
       "    </tr>\n",
       "  </thead>\n",
       "  <tbody>\n",
       "    <tr>\n",
       "      <th>0</th>\n",
       "      <td>USA</td>\n",
       "      <td>232</td>\n",
       "      <td>0.690595</td>\n",
       "      <td>335942003</td>\n",
       "      <td>69.0</td>\n",
       "      <td>8.7</td>\n",
       "      <td>6.951</td>\n",
       "      <td>36</td>\n",
       "      <td>38</td>\n",
       "      <td>83</td>\n",
       "    </tr>\n",
       "    <tr>\n",
       "      <th>1</th>\n",
       "      <td>CHN</td>\n",
       "      <td>196</td>\n",
       "      <td>0.137551</td>\n",
       "      <td>1424929781</td>\n",
       "      <td>41.0</td>\n",
       "      <td>5.0</td>\n",
       "      <td>5.339</td>\n",
       "      <td>153</td>\n",
       "      <td>38</td>\n",
       "      <td>61</td>\n",
       "    </tr>\n",
       "    <tr>\n",
       "      <th>2</th>\n",
       "      <td>JPN</td>\n",
       "      <td>126</td>\n",
       "      <td>1.006030</td>\n",
       "      <td>125244761</td>\n",
       "      <td>73.0</td>\n",
       "      <td>7.0</td>\n",
       "      <td>5.940</td>\n",
       "      <td>347</td>\n",
       "      <td>48</td>\n",
       "      <td>92</td>\n",
       "    </tr>\n",
       "    <tr>\n",
       "      <th>3</th>\n",
       "      <td>GBR</td>\n",
       "      <td>130</td>\n",
       "      <td>1.938578</td>\n",
       "      <td>67059474</td>\n",
       "      <td>77.0</td>\n",
       "      <td>10.4</td>\n",
       "      <td>7.064</td>\n",
       "      <td>281</td>\n",
       "      <td>40</td>\n",
       "      <td>83</td>\n",
       "    </tr>\n",
       "    <tr>\n",
       "      <th>4</th>\n",
       "      <td>RUS</td>\n",
       "      <td>139</td>\n",
       "      <td>0.954557</td>\n",
       "      <td>145617329</td>\n",
       "      <td>28.0</td>\n",
       "      <td>11.5</td>\n",
       "      <td>5.477</td>\n",
       "      <td>9</td>\n",
       "      <td>40</td>\n",
       "      <td>74</td>\n",
       "    </tr>\n",
       "    <tr>\n",
       "      <th>...</th>\n",
       "      <td>...</td>\n",
       "      <td>...</td>\n",
       "      <td>...</td>\n",
       "      <td>...</td>\n",
       "      <td>...</td>\n",
       "      <td>...</td>\n",
       "      <td>...</td>\n",
       "      <td>...</td>\n",
       "      <td>...</td>\n",
       "      <td>...</td>\n",
       "    </tr>\n",
       "    <tr>\n",
       "      <th>87</th>\n",
       "      <td>CIV</td>\n",
       "      <td>1</td>\n",
       "      <td>0.037297</td>\n",
       "      <td>26811790</td>\n",
       "      <td>35.0</td>\n",
       "      <td>4.0</td>\n",
       "      <td>5.306</td>\n",
       "      <td>83</td>\n",
       "      <td>19</td>\n",
       "      <td>51</td>\n",
       "    </tr>\n",
       "    <tr>\n",
       "      <th>88</th>\n",
       "      <td>GHA</td>\n",
       "      <td>1</td>\n",
       "      <td>0.031075</td>\n",
       "      <td>32180401</td>\n",
       "      <td>41.0</td>\n",
       "      <td>1.8</td>\n",
       "      <td>5.088</td>\n",
       "      <td>137</td>\n",
       "      <td>22</td>\n",
       "      <td>57</td>\n",
       "    </tr>\n",
       "    <tr>\n",
       "      <th>89</th>\n",
       "      <td>GRD</td>\n",
       "      <td>1</td>\n",
       "      <td>8.086493</td>\n",
       "      <td>123663</td>\n",
       "      <td>53.0</td>\n",
       "      <td>11.9</td>\n",
       "      <td>NaN</td>\n",
       "      <td>331</td>\n",
       "      <td>32</td>\n",
       "      <td>35</td>\n",
       "    </tr>\n",
       "    <tr>\n",
       "      <th>91</th>\n",
       "      <td>MDA</td>\n",
       "      <td>1</td>\n",
       "      <td>0.324165</td>\n",
       "      <td>3084847</td>\n",
       "      <td>32.0</td>\n",
       "      <td>6.3</td>\n",
       "      <td>5.766</td>\n",
       "      <td>123</td>\n",
       "      <td>38</td>\n",
       "      <td>43</td>\n",
       "    </tr>\n",
       "    <tr>\n",
       "      <th>92</th>\n",
       "      <td>SYR</td>\n",
       "      <td>1</td>\n",
       "      <td>0.048140</td>\n",
       "      <td>20772595</td>\n",
       "      <td>13.0</td>\n",
       "      <td>NaN</td>\n",
       "      <td>NaN</td>\n",
       "      <td>95</td>\n",
       "      <td>26</td>\n",
       "      <td>60</td>\n",
       "    </tr>\n",
       "  </tbody>\n",
       "</table>\n",
       "<p>86 rows × 10 columns</p>\n",
       "</div>"
      ],
      "text/plain": [
       "   Country_x  Medal Value  Medals per million  2020 Population  \\\n",
       "0        USA          232            0.690595        335942003   \n",
       "1        CHN          196            0.137551       1424929781   \n",
       "2        JPN          126            1.006030        125244761   \n",
       "3        GBR          130            1.938578         67059474   \n",
       "4        RUS          139            0.954557        145617329   \n",
       "..       ...          ...                 ...              ...   \n",
       "87       CIV            1            0.037297         26811790   \n",
       "88       GHA            1            0.031075         32180401   \n",
       "89       GRD            1            8.086493           123663   \n",
       "91       MDA            1            0.324165          3084847   \n",
       "92       SYR            1            0.048140         20772595   \n",
       "\n",
       "    CPI score 2019  Alcohol Consumed (L/P/Y)  Happiness score  \\\n",
       "0             69.0                       8.7            6.951   \n",
       "1             41.0                       5.0            5.339   \n",
       "2             73.0                       7.0            5.940   \n",
       "3             77.0                      10.4            7.064   \n",
       "4             28.0                      11.5            5.477   \n",
       "..             ...                       ...              ...   \n",
       "87            35.0                       4.0            5.306   \n",
       "88            41.0                       1.8            5.088   \n",
       "89            53.0                      11.9              NaN   \n",
       "91            32.0                       6.3            5.766   \n",
       "92            13.0                       NaN              NaN   \n",
       "\n",
       "    Population Density (P/Km²)  Med. Age  Urban Pop %  \n",
       "0                           36        38           83  \n",
       "1                          153        38           61  \n",
       "2                          347        48           92  \n",
       "3                          281        40           83  \n",
       "4                            9        40           74  \n",
       "..                         ...       ...          ...  \n",
       "87                          83        19           51  \n",
       "88                         137        22           57  \n",
       "89                         331        32           35  \n",
       "91                         123        38           43  \n",
       "92                          95        26           60  \n",
       "\n",
       "[86 rows x 10 columns]"
      ]
     },
     "metadata": {},
     "output_type": "display_data"
    },
    {
     "name": "stdout",
     "output_type": "stream",
     "text": [
      "['CPI score 2019', 'Alcohol Consumed (L/P/Y)', 'Happiness score', 'Population Density (P/Km²)', 'Med. Age', 'Urban Pop %']\n"
     ]
    }
   ],
   "source": [
    "\n",
    "\n",
    "display(df)\n",
    "print(factors_of_interest)"
   ]
  },
  {
   "cell_type": "markdown",
   "id": "a81ea931-f0c8-45fc-8270-4ca3e7b53966",
   "metadata": {},
   "source": [
    "# Visualizations"
   ]
  },
  {
   "cell_type": "code",
   "execution_count": 84,
   "id": "2ed9b03c-6ee2-418b-80f3-fb993a2fbb5f",
   "metadata": {},
   "outputs": [
    {
     "name": "stdout",
     "output_type": "stream",
     "text": [
      "<class 'numpy.int64'>\n"
     ]
    },
    {
     "data": {
      "image/png": "[encoded data removed]",
      "text/plain": [
       "<Figure size 432x288 with 1 Axes>"
      ]
     },
     "metadata": {
      "needs_background": "light"
     },
     "output_type": "display_data"
    },
    {
     "data": {
      "image/png": "[encoded data removed]",
      "text/plain": [
       "<Figure size 432x288 with 1 Axes>"
      ]
     },
     "metadata": {
      "needs_background": "light"
     },
     "output_type": "display_data"
    },
    {
     "data": {
      "image/png": "[encoded data removed]",
      "text/plain": [
       "<Figure size 432x288 with 1 Axes>"
      ]
     },
     "metadata": {
      "needs_background": "light"
     },
     "output_type": "display_data"
    },
    {
     "data": {
      "image/png": "[encoded data removed]",
      "text/plain": [
       "<Figure size 432x288 with 1 Axes>"
      ]
     },
     "metadata": {
      "needs_background": "light"
     },
     "output_type": "display_data"
    },
    {
     "data": {
      "image/png": "[encoded data removed]",
      "text/plain": [
       "<Figure size 432x288 with 1 Axes>"
      ]
     },
     "metadata": {
      "needs_background": "light"
     },
     "output_type": "display_data"
    },
    {
     "data": {
      "image/png": "[encoded data removed]",
      "text/plain": [
       "<Figure size 432x288 with 1 Axes>"
      ]
     },
     "metadata": {
      "needs_background": "light"
     },
     "output_type": "display_data"
    }
   ],
   "source": [
    "\n",
    "df_no_outliers = df[df['Medals per million']<12].dropna()\n",
    "df_no_outliers = df[df['Population Density (P/Km²)']<1000].dropna()\n",
    "plt.rcParams.update({'font.size': 22})\n",
    "\n",
    "#function to make a scatterplot with a trend line\n",
    "def scatterplot(df, x_data, y_data):\n",
    "\n",
    "    df.plot.scatter(x=x_data,y=y_data)\n",
    "    z = np.polyfit(df[x_data], df[y_data], 1)\n",
    "    p = np.poly1d(z) \n",
    "    plt.plot(df[x_data],p(df[x_data]), 'k', alpha=0.75)\n",
    "print(type(df['Population Density (P/Km²)'][1]))\n",
    "\n",
    "for factor in factors_of_interest:\n",
    "   scatterplot(df_no_outliers, factor, 'Medals per million')\n",
    "\n",
    "\n"
   ]
  },
  {
   "cell_type": "code",
   "execution_count": 85,
   "id": "925b8a8b",
   "metadata": {},
   "outputs": [
    {
     "data": {
      "text/plain": [
       "Medal Value                   0.000368\n",
       "Medals per million            1.000000\n",
       "2020 Population              -0.182275\n",
       "CPI score 2019                0.373563\n",
       "Alcohol Consumed (L/P/Y)      0.228887\n",
       "Happiness score               0.422423\n",
       "Population Density (P/Km²)   -0.006843\n",
       "Med. Age                      0.218638\n",
       "Urban Pop %                   0.135155\n",
       "Name: Medals per million, dtype: float64"
      ]
     },
     "execution_count": 85,
     "metadata": {},
     "output_type": "execute_result"
    }
   ],
   "source": [
    "df.corr(method ='pearson')['Medals per million']"
   ]
  },
  {
   "cell_type": "code",
   "execution_count": 86,
   "id": "bd2ca668-5216-44eb-aaa7-1c3998b5faab",
   "metadata": {},
   "outputs": [
    {
     "data": {
      "image/png": "[encoded data removed]",
      "text/plain": [
       "<Figure size 1440x1440 with 2 Axes>"
      ]
     },
     "metadata": {
      "needs_background": "light"
     },
     "output_type": "display_data"
    }
   ],
   "source": [
    "import seaborn as sns\n",
    "\n",
    "# visualizing the correlation matrix of the selected factors\n",
    "plt.figure(figsize=(20,20))\n",
    "sns.heatmap(df.corr(), annot=True, cmap='coolwarm')\n",
    "plt.show()\n"
   ]
  },
  {
   "cell_type": "code",
   "execution_count": 87,
   "id": "1fe48e48",
   "metadata": {},
   "outputs": [
    {
     "data": {
      "application/vnd.plotly.v1+json": {
       "config": {
        "plotlyServerURL": "https://plot.ly"
       },
       "data": [
        {
         "coloraxis": "coloraxis",
         "geo": "geo",
         "hovertemplate": "<b>%{hovertext}</b><br><br>Country_x=%{location}<br>Medals per million=%{z}<extra></extra>",
         "hovertext": [
          "USA",
          "CHN",
          "JPN",
          "GBR",
          "RUS",
          "AUS",
          "NLD",
          "FRA",
          "DEU",
          "ITA",
          "CAN",
          "BRA",
          "NZL",
          "HUN",
          "KOR",
          "POL",
          "CZE",
          "KEN",
          "NOR",
          "JAM",
          "ESP",
          "SWE",
          "CHE",
          "DNK",
          "HRV",
          "SRB",
          "BEL",
          "BGR",
          "SVN",
          "UZB",
          "GEO",
          "TUR",
          "GRC",
          "UGA",
          "ECU",
          "IRL",
          "ISR",
          "UKR",
          "BLR",
          "ROU",
          "IND",
          "PHL",
          "SVK",
          "ZAF",
          "AUT",
          "EGY",
          "IDN",
          "ETH",
          "PRT",
          "TUN",
          "EST",
          "LVA",
          "THA",
          "MAR",
          "COL",
          "AZE",
          "DOM",
          "ARM",
          "KGZ",
          "MNG",
          "ARG",
          "JOR",
          "MYS",
          "NGA",
          "SAU",
          "LTU",
          "MKD",
          "NAM",
          "TKM",
          "KAZ",
          "MEX",
          "FIN",
          "BWA",
          "BFA",
          "CIV",
          "GHA",
          "MDA"
         ],
         "locations": [
          "USA",
          "CHN",
          "JPN",
          "GBR",
          "RUS",
          "AUS",
          "NLD",
          "FRA",
          "DEU",
          "ITA",
          "CAN",
          "BRA",
          "NZL",
          "HUN",
          "KOR",
          "POL",
          "CZE",
          "KEN",
          "NOR",
          "JAM",
          "ESP",
          "SWE",
          "CHE",
          "DNK",
          "HRV",
          "SRB",
          "BEL",
          "BGR",
          "SVN",
          "UZB",
          "GEO",
          "TUR",
          "GRC",
          "UGA",
          "ECU",
          "IRL",
          "ISR",
          "UKR",
          "BLR",
          "ROU",
          "IND",
          "PHL",
          "SVK",
          "ZAF",
          "AUT",
          "EGY",
          "IDN",
          "ETH",
          "PRT",
          "TUN",
          "EST",
          "LVA",
          "THA",
          "MAR",
          "COL",
          "AZE",
          "DOM",
          "ARM",
          "KGZ",
          "MNG",
          "ARG",
          "JOR",
          "MYS",
          "NGA",
          "SAU",
          "LTU",
          "MKD",
          "NAM",
          "TKM",
          "KAZ",
          "MEX",
          "FIN",
          "BWA",
          "BFA",
          "CIV",
          "GHA",
          "MDA"
         ],
         "name": "",
         "type": "choropleth",
         "z": [
          0.6905953942294022,
          0.13755063766191297,
          1.0060301045246915,
          1.9385776870245062,
          0.9545567203749492,
          3.389163504194051,
          3.9002998470222097,
          1.0080636875407034,
          0.816042551722817,
          1.1764591400026543,
          1.1612959587824392,
          0.192311026179891,
          7.903368672587739,
          3.9997649368914017,
          0.6943816232674938,
          0.7026059864215929,
          2.184037854883599,
          0.42319264999005496,
          3.345825033053963,
          6.381992004073129,
          0.6545081986336106,
          2.0252736795721926,
          2.6624644488646503,
          3.604753536992753,
          4.149511285206163,
          2.174502463643338,
          1.2108928111629094,
          1.862684343063471,
          5.666682879676017,
          0.3280971415699794,
          4.514178769976569,
          0.22582639028115478,
          0.8561454884176833,
          0.202681653939047,
          0.4548401961612056,
          1.6174297464335168,
          0.913503859382524,
          0.6148987787791417,
          1.245622157126931,
          0.46291443314738917,
          0.007877471646156188,
          0.07130698220053829,
          1.466092666952677,
          0.11904371773394433,
          1.1226145423263292,
          0.08374809266045301,
          0.02942713064472599,
          0.05973159471385968,
          0.6797309663676886,
          0.41112595641259053,
          3.0087766013461263,
          2.108534715969831,
          0.05596310374955034,
          0.08176888558712186,
          0.17671083874778618,
          0.9722943745672683,
          0.7272949428273446,
          2.1385738848762905,
          0.7782253784276548,
          1.5177569979980785,
          0.0888177715123748,
          0.2745060469564554,
          0.09036146483524861,
          0.014400409778060645,
          0.055560020420529904,
          0.7091527149734405,
          0.9473859726243349,
          0.8035039198938733,
          0.3199775759714759,
          0.42151312357400134,
          0.031746459567367824,
          0.3616984491093899,
          0.3927109702238688,
          0.04646273182463887,
          0.037297024928212553,
          0.031074814760698597,
          0.3241651855019066
         ]
        }
       ],
       "layout": {
        "autosize": false,
        "coloraxis": {
         "colorbar": {
          "title": {
           "text": "Medals per million"
          }
         },
         "colorscale": [
          [
           0,
           "#0d0887"
          ],
          [
           0.1111111111111111,
           "#46039f"
          ],
          [
           0.2222222222222222,
           "#7201a8"
          ],
          [
           0.3333333333333333,
           "#9c179e"
          ],
          [
           0.4444444444444444,
           "#bd3786"
          ],
          [
           0.5555555555555556,
           "#d8576b"
          ],
          [
           0.6666666666666666,
           "#ed7953"
          ],
          [
           0.7777777777777778,
           "#fb9f3a"
          ],
          [
           0.8888888888888888,
           "#fdca26"
          ],
          [
           1,
           "#f0f921"
          ]
         ]
        },
        "geo": {
         "center": {},
         "domain": {
          "x": [
           0,
           1
          ],
          "y": [
           0,
           1
          ]
         },
         "projection": {
          "type": "equirectangular"
         },
         "showcoastlines": false,
         "showframe": false
        },
        "height": 400,
        "legend": {
         "tracegroupgap": 0
        },
        "margin": {
         "b": 0,
         "l": 0,
         "pad": 0,
         "r": 0,
         "t": 0
        },
        "template": {
         "data": {
          "bar": [
           {
            "error_x": {
             "color": "#2a3f5f"
            },
            "error_y": {
             "color": "#2a3f5f"
            },
            "marker": {
             "line": {
              "color": "#E5ECF6",
              "width": 0.5
             },
             "pattern": {
              "fillmode": "overlay",
              "size": 10,
              "solidity": 0.2
             }
            },
            "type": "bar"
           }
          ],
          "barpolar": [
           {
            "marker": {
             "line": {
              "color": "#E5ECF6",
              "width": 0.5
             },
             "pattern": {
              "fillmode": "overlay",
              "size": 10,
              "solidity": 0.2
             }
            },
            "type": "barpolar"
           }
          ],
          "carpet": [
           {
            "aaxis": {
             "endlinecolor": "#2a3f5f",
             "gridcolor": "white",
             "linecolor": "white",
             "minorgridcolor": "white",
             "startlinecolor": "#2a3f5f"
            },
            "baxis": {
             "endlinecolor": "#2a3f5f",
             "gridcolor": "white",
             "linecolor": "white",
             "minorgridcolor": "white",
             "startlinecolor": "#2a3f5f"
            },
            "type": "carpet"
           }
          ],
          "choropleth": [
           {
            "colorbar": {
             "outlinewidth": 0,
             "ticks": ""
            },
            "type": "choropleth"
           }
          ],
          "contour": [
           {
            "colorbar": {
             "outlinewidth": 0,
             "ticks": ""
            },
            "colorscale": [
             [
              0,
              "#0d0887"
             ],
             [
              0.1111111111111111,
              "#46039f"
             ],
             [
              0.2222222222222222,
              "#7201a8"
             ],
             [
              0.3333333333333333,
              "#9c179e"
             ],
             [
              0.4444444444444444,
              "#bd3786"
             ],
             [
              0.5555555555555556,
              "#d8576b"
             ],
             [
              0.6666666666666666,
              "#ed7953"
             ],
             [
              0.7777777777777778,
              "#fb9f3a"
             ],
             [
              0.8888888888888888,
              "#fdca26"
             ],
             [
              1,
              "#f0f921"
             ]
            ],
            "type": "contour"
           }
          ],
          "contourcarpet": [
           {
            "colorbar": {
             "outlinewidth": 0,
             "ticks": ""
            },
            "type": "contourcarpet"
           }
          ],
          "heatmap": [
           {
            "colorbar": {
             "outlinewidth": 0,
             "ticks": ""
            },
            "colorscale": [
             [
              0,
              "#0d0887"
             ],
             [
              0.1111111111111111,
              "#46039f"
             ],
             [
              0.2222222222222222,
              "#7201a8"
             ],
             [
              0.3333333333333333,
              "#9c179e"
             ],
             [
              0.4444444444444444,
              "#bd3786"
             ],
             [
              0.5555555555555556,
              "#d8576b"
             ],
             [
              0.6666666666666666,
              "#ed7953"
             ],
             [
              0.7777777777777778,
              "#fb9f3a"
             ],
             [
              0.8888888888888888,
              "#fdca26"
             ],
             [
              1,
              "#f0f921"
             ]
            ],
            "type": "heatmap"
           }
          ],
          "heatmapgl": [
           {
            "colorbar": {
             "outlinewidth": 0,
             "ticks": ""
            },
            "colorscale": [
             [
              0,
              "#0d0887"
             ],
             [
              0.1111111111111111,
              "#46039f"
             ],
             [
              0.2222222222222222,
              "#7201a8"
             ],
             [
              0.3333333333333333,
              "#9c179e"
             ],
             [
              0.4444444444444444,
              "#bd3786"
             ],
             [
              0.5555555555555556,
              "#d8576b"
             ],
             [
              0.6666666666666666,
              "#ed7953"
             ],
             [
              0.7777777777777778,
              "#fb9f3a"
             ],
             [
              0.8888888888888888,
              "#fdca26"
             ],
             [
              1,
              "#f0f921"
             ]
            ],
            "type": "heatmapgl"
           }
          ],
          "histogram": [
           {
            "marker": {
             "pattern": {
              "fillmode": "overlay",
              "size": 10,
              "solidity": 0.2
             }
            },
            "type": "histogram"
           }
          ],
          "histogram2d": [
           {
            "colorbar": {
             "outlinewidth": 0,
             "ticks": ""
            },
            "colorscale": [
             [
              0,
              "#0d0887"
             ],
             [
              0.1111111111111111,
              "#46039f"
             ],
             [
              0.2222222222222222,
              "#7201a8"
             ],
             [
              0.3333333333333333,
              "#9c179e"
             ],
             [
              0.4444444444444444,
              "#bd3786"
             ],
             [
              0.5555555555555556,
              "#d8576b"
             ],
             [
              0.6666666666666666,
              "#ed7953"
             ],
             [
              0.7777777777777778,
              "#fb9f3a"
             ],
             [
              0.8888888888888888,
              "#fdca26"
             ],
             [
              1,
              "#f0f921"
             ]
            ],
            "type": "histogram2d"
           }
          ],
          "histogram2dcontour": [
           {
            "colorbar": {
             "outlinewidth": 0,
             "ticks": ""
            },
            "colorscale": [
             [
              0,
              "#0d0887"
             ],
             [
              0.1111111111111111,
              "#46039f"
             ],
             [
              0.2222222222222222,
              "#7201a8"
             ],
             [
              0.3333333333333333,
              "#9c179e"
             ],
             [
              0.4444444444444444,
              "#bd3786"
             ],
             [
              0.5555555555555556,
              "#d8576b"
             ],
             [
              0.6666666666666666,
              "#ed7953"
             ],
             [
              0.7777777777777778,
              "#fb9f3a"
             ],
             [
              0.8888888888888888,
              "#fdca26"
             ],
             [
              1,
              "#f0f921"
             ]
            ],
            "type": "histogram2dcontour"
           }
          ],
          "mesh3d": [
           {
            "colorbar": {
             "outlinewidth": 0,
             "ticks": ""
            },
            "type": "mesh3d"
           }
          ],
          "parcoords": [
           {
            "line": {
             "colorbar": {
              "outlinewidth": 0,
              "ticks": ""
             }
            },
            "type": "parcoords"
           }
          ],
          "pie": [
           {
            "automargin": true,
            "type": "pie"
           }
          ],
          "scatter": [
           {
            "fillpattern": {
             "fillmode": "overlay",
             "size": 10,
             "solidity": 0.2
            },
            "type": "scatter"
           }
          ],
          "scatter3d": [
           {
            "line": {
             "colorbar": {
              "outlinewidth": 0,
              "ticks": ""
             }
            },
            "marker": {
             "colorbar": {
              "outlinewidth": 0,
              "ticks": ""
             }
            },
            "type": "scatter3d"
           }
          ],
          "scattercarpet": [
           {
            "marker": {
             "colorbar": {
              "outlinewidth": 0,
              "ticks": ""
             }
            },
            "type": "scattercarpet"
           }
          ],
          "scattergeo": [
           {
            "marker": {
             "colorbar": {
              "outlinewidth": 0,
              "ticks": ""
             }
            },
            "type": "scattergeo"
           }
          ],
          "scattergl": [
           {
            "marker": {
             "colorbar": {
              "outlinewidth": 0,
              "ticks": ""
             }
            },
            "type": "scattergl"
           }
          ],
          "scattermapbox": [
           {
            "marker": {
             "colorbar": {
              "outlinewidth": 0,
              "ticks": ""
             }
            },
            "type": "scattermapbox"
           }
          ],
          "scatterpolar": [
           {
            "marker": {
             "colorbar": {
              "outlinewidth": 0,
              "ticks": ""
             }
            },
            "type": "scatterpolar"
           }
          ],
          "scatterpolargl": [
           {
            "marker": {
             "colorbar": {
              "outlinewidth": 0,
              "ticks": ""
             }
            },
            "type": "scatterpolargl"
           }
          ],
          "scatterternary": [
           {
            "marker": {
             "colorbar": {
              "outlinewidth": 0,
              "ticks": ""
             }
            },
            "type": "scatterternary"
           }
          ],
          "surface": [
           {
            "colorbar": {
             "outlinewidth": 0,
             "ticks": ""
            },
            "colorscale": [
             [
              0,
              "#0d0887"
             ],
             [
              0.1111111111111111,
              "#46039f"
             ],
             [
              0.2222222222222222,
              "#7201a8"
             ],
             [
              0.3333333333333333,
              "#9c179e"
             ],
             [
              0.4444444444444444,
              "#bd3786"
             ],
             [
              0.5555555555555556,
              "#d8576b"
             ],
             [
              0.6666666666666666,
              "#ed7953"
             ],
             [
              0.7777777777777778,
              "#fb9f3a"
             ],
             [
              0.8888888888888888,
              "#fdca26"
             ],
             [
              1,
              "#f0f921"
             ]
            ],
            "type": "surface"
           }
          ],
          "table": [
           {
            "cells": {
             "fill": {
              "color": "#EBF0F8"
             },
             "line": {
              "color": "white"
             }
            },
            "header": {
             "fill": {
              "color": "#C8D4E3"
             },
             "line": {
              "color": "white"
             }
            },
            "type": "table"
           }
          ]
         },
         "layout": {
          "annotationdefaults": {
           "arrowcolor": "#2a3f5f",
           "arrowhead": 0,
           "arrowwidth": 1
          },
          "autotypenumbers": "strict",
          "coloraxis": {
           "colorbar": {
            "outlinewidth": 0,
            "ticks": ""
           }
          },
          "colorscale": {
           "diverging": [
            [
             0,
             "#8e0152"
            ],
            [
             0.1,
             "#c51b7d"
            ],
            [
             0.2,
             "#de77ae"
            ],
            [
             0.3,
             "#f1b6da"
            ],
            [
             0.4,
             "#fde0ef"
            ],
            [
             0.5,
             "#f7f7f7"
            ],
            [
             0.6,
             "#e6f5d0"
            ],
            [
             0.7,
             "#b8e186"
            ],
            [
             0.8,
             "#7fbc41"
            ],
            [
             0.9,
             "#4d9221"
            ],
            [
             1,
             "#276419"
            ]
           ],
           "sequential": [
            [
             0,
             "#0d0887"
            ],
            [
             0.1111111111111111,
             "#46039f"
            ],
            [
             0.2222222222222222,
             "#7201a8"
            ],
            [
             0.3333333333333333,
             "#9c179e"
            ],
            [
             0.4444444444444444,
             "#bd3786"
            ],
            [
             0.5555555555555556,
             "#d8576b"
            ],
            [
             0.6666666666666666,
             "#ed7953"
            ],
            [
             0.7777777777777778,
             "#fb9f3a"
            ],
            [
             0.8888888888888888,
             "#fdca26"
            ],
            [
             1,
             "#f0f921"
            ]
           ],
           "sequentialminus": [
            [
             0,
             "#0d0887"
            ],
            [
             0.1111111111111111,
             "#46039f"
            ],
            [
             0.2222222222222222,
             "#7201a8"
            ],
            [
             0.3333333333333333,
             "#9c179e"
            ],
            [
             0.4444444444444444,
             "#bd3786"
            ],
            [
             0.5555555555555556,
             "#d8576b"
            ],
            [
             0.6666666666666666,
             "#ed7953"
            ],
            [
             0.7777777777777778,
             "#fb9f3a"
            ],
            [
             0.8888888888888888,
             "#fdca26"
            ],
            [
             1,
             "#f0f921"
            ]
           ]
          },
          "colorway": [
           "#636efa",
           "#EF553B",
           "#00cc96",
           "#ab63fa",
           "#FFA15A",
           "#19d3f3",
           "#FF6692",
           "#B6E880",
           "#FF97FF",
           "#FECB52"
          ],
          "font": {
           "color": "#2a3f5f"
          },
          "geo": {
           "bgcolor": "white",
           "lakecolor": "white",
           "landcolor": "#E5ECF6",
           "showlakes": true,
           "showland": true,
           "subunitcolor": "white"
          },
          "hoverlabel": {
           "align": "left"
          },
          "hovermode": "closest",
          "mapbox": {
           "style": "light"
          },
          "paper_bgcolor": "white",
          "plot_bgcolor": "#E5ECF6",
          "polar": {
           "angularaxis": {
            "gridcolor": "white",
            "linecolor": "white",
            "ticks": ""
           },
           "bgcolor": "#E5ECF6",
           "radialaxis": {
            "gridcolor": "white",
            "linecolor": "white",
            "ticks": ""
           }
          },
          "scene": {
           "xaxis": {
            "backgroundcolor": "#E5ECF6",
            "gridcolor": "white",
            "gridwidth": 2,
            "linecolor": "white",
            "showbackground": true,
            "ticks": "",
            "zerolinecolor": "white"
           },
           "yaxis": {
            "backgroundcolor": "#E5ECF6",
            "gridcolor": "white",
            "gridwidth": 2,
            "linecolor": "white",
            "showbackground": true,
            "ticks": "",
            "zerolinecolor": "white"
           },
           "zaxis": {
            "backgroundcolor": "#E5ECF6",
            "gridcolor": "white",
            "gridwidth": 2,
            "linecolor": "white",
            "showbackground": true,
            "ticks": "",
            "zerolinecolor": "white"
           }
          },
          "shapedefaults": {
           "line": {
            "color": "#2a3f5f"
           }
          },
          "ternary": {
           "aaxis": {
            "gridcolor": "white",
            "linecolor": "white",
            "ticks": ""
           },
           "baxis": {
            "gridcolor": "white",
            "linecolor": "white",
            "ticks": ""
           },
           "bgcolor": "#E5ECF6",
           "caxis": {
            "gridcolor": "white",
            "linecolor": "white",
            "ticks": ""
           }
          },
          "title": {
           "x": 0.05
          },
          "xaxis": {
           "automargin": true,
           "gridcolor": "white",
           "linecolor": "white",
           "ticks": "",
           "title": {
            "standoff": 15
           },
           "zerolinecolor": "white",
           "zerolinewidth": 2
          },
          "yaxis": {
           "automargin": true,
           "gridcolor": "white",
           "linecolor": "white",
           "ticks": "",
           "title": {
            "standoff": 15
           },
           "zerolinecolor": "white",
           "zerolinewidth": 2
          }
         }
        },
        "title": {
         "text": "Medals per million"
        },
        "width": 800
       }
      }
     },
     "metadata": {},
     "output_type": "display_data"
    }
   ],
   "source": [
    "\n",
    "new_df = df_no_outliers[['Country_x', 'Medal Value', 'Medals per million']]\n",
    "new_df\n",
    "\n",
    "\n",
    "\n",
    "import plotly.express as px\n",
    "\n",
    "\n",
    "\n",
    "\n",
    "fig = px.choropleth(new_df, locations=\"Country_x\",\n",
    "                    color=\"Medals per million\", \n",
    "                    hover_name=\"Country_x\", \n",
    "                    color_continuous_scale=px.colors.sequential.Plasma)\n",
    "\n",
    "\n",
    "fig.update_layout(\n",
    "    title_text = 'Medals per million',\n",
    "    geo=dict(\n",
    "        showframe = False,\n",
    "        showcoastlines = False,\n",
    "        projection_type = 'equirectangular',\n",
    "    ),\n",
    "    width=800,\n",
    "    height=400,   \n",
    "    autosize=False,\n",
    "    margin=dict(\n",
    "        l=0,\n",
    "        r=0,\n",
    "        b=0,\n",
    "        t=0,\n",
    "        pad=0\n",
    "    ),\n",
    "\n",
    ")\n",
    "fig.show()\n",
    "\n",
    "\n",
    "\n"
   ]
  },
  {
   "cell_type": "code",
   "execution_count": 88,
   "id": "c0a14963",
   "metadata": {},
   "outputs": [
    {
     "data": {
      "application/vnd.plotly.v1+json": {
       "config": {
        "plotlyServerURL": "https://plot.ly"
       },
       "data": [
        {
         "geo": "geo",
         "hovertemplate": "<b>%{hovertext}</b><br><br>Medal Value=%{marker.color}<br>Country_x=%{location}<extra></extra>",
         "hovertext": [
          "USA",
          "CHN",
          "JPN",
          "GBR",
          "RUS",
          "AUS",
          "NLD",
          "FRA",
          "DEU",
          "ITA",
          "CAN",
          "BRA",
          "NZL",
          "HUN",
          "KOR",
          "POL",
          "CZE",
          "KEN",
          "NOR",
          "JAM",
          "ESP",
          "SWE",
          "CHE",
          "DNK",
          "HRV",
          "SRB",
          "BEL",
          "BGR",
          "SVN",
          "UZB",
          "GEO",
          "TUR",
          "GRC",
          "UGA",
          "ECU",
          "IRL",
          "ISR",
          "UKR",
          "BLR",
          "ROU",
          "IND",
          "PHL",
          "SVK",
          "ZAF",
          "AUT",
          "EGY",
          "IDN",
          "ETH",
          "PRT",
          "TUN",
          "EST",
          "LVA",
          "THA",
          "MAR",
          "COL",
          "AZE",
          "DOM",
          "ARM",
          "KGZ",
          "MNG",
          "ARG",
          "JOR",
          "MYS",
          "NGA",
          "SAU",
          "LTU",
          "MKD",
          "NAM",
          "TKM",
          "KAZ",
          "MEX",
          "FIN",
          "BWA",
          "BFA",
          "CIV",
          "GHA",
          "MDA"
         ],
         "legendgroup": "",
         "locations": [
          "USA",
          "CHN",
          "JPN",
          "GBR",
          "RUS",
          "AUS",
          "NLD",
          "FRA",
          "DEU",
          "ITA",
          "CAN",
          "BRA",
          "NZL",
          "HUN",
          "KOR",
          "POL",
          "CZE",
          "KEN",
          "NOR",
          "JAM",
          "ESP",
          "SWE",
          "CHE",
          "DNK",
          "HRV",
          "SRB",
          "BEL",
          "BGR",
          "SVN",
          "UZB",
          "GEO",
          "TUR",
          "GRC",
          "UGA",
          "ECU",
          "IRL",
          "ISR",
          "UKR",
          "BLR",
          "ROU",
          "IND",
          "PHL",
          "SVK",
          "ZAF",
          "AUT",
          "EGY",
          "IDN",
          "ETH",
          "PRT",
          "TUN",
          "EST",
          "LVA",
          "THA",
          "MAR",
          "COL",
          "AZE",
          "DOM",
          "ARM",
          "KGZ",
          "MNG",
          "ARG",
          "JOR",
          "MYS",
          "NGA",
          "SAU",
          "LTU",
          "MKD",
          "NAM",
          "TKM",
          "KAZ",
          "MEX",
          "FIN",
          "BWA",
          "BFA",
          "CIV",
          "GHA",
          "MDA"
         ],
         "marker": {
          "color": [
           232,
           196,
           126,
           130,
           139,
           87,
           68,
           65,
           68,
           70,
           44,
           41,
           40,
           39,
           36,
           27,
           23,
           22,
           18,
           18,
           31,
           21,
           23,
           21,
           17,
           16,
           14,
           13,
           12,
           11,
           17,
           19,
           9,
           9,
           8,
           8,
           8,
           27,
           12,
           9,
           11,
           8,
           8,
           7,
           10,
           9,
           8,
           7,
           7,
           5,
           4,
           4,
           4,
           3,
           9,
           10,
           8,
           6,
           5,
           5,
           4,
           3,
           3,
           3,
           2,
           2,
           2,
           2,
           2,
           8,
           4,
           2,
           1,
           1,
           1,
           1,
           1
          ],
          "coloraxis": "coloraxis",
          "size": [
           232,
           196,
           126,
           130,
           139,
           87,
           68,
           65,
           68,
           70,
           44,
           41,
           40,
           39,
           36,
           27,
           23,
           22,
           18,
           18,
           31,
           21,
           23,
           21,
           17,
           16,
           14,
           13,
           12,
           11,
           17,
           19,
           9,
           9,
           8,
           8,
           8,
           27,
           12,
           9,
           11,
           8,
           8,
           7,
           10,
           9,
           8,
           7,
           7,
           5,
           4,
           4,
           4,
           3,
           9,
           10,
           8,
           6,
           5,
           5,
           4,
           3,
           3,
           3,
           2,
           2,
           2,
           2,
           2,
           8,
           4,
           2,
           1,
           1,
           1,
           1,
           1
          ],
          "sizemode": "area",
          "sizeref": 0.58,
          "symbol": "circle"
         },
         "mode": "markers",
         "name": "",
         "showlegend": false,
         "type": "scattergeo"
        }
       ],
       "layout": {
        "autosize": false,
        "coloraxis": {
         "colorbar": {
          "title": {
           "text": "Medal Value"
          }
         },
         "colorscale": [
          [
           0,
           "#0d0887"
          ],
          [
           0.1111111111111111,
           "#46039f"
          ],
          [
           0.2222222222222222,
           "#7201a8"
          ],
          [
           0.3333333333333333,
           "#9c179e"
          ],
          [
           0.4444444444444444,
           "#bd3786"
          ],
          [
           0.5555555555555556,
           "#d8576b"
          ],
          [
           0.6666666666666666,
           "#ed7953"
          ],
          [
           0.7777777777777778,
           "#fb9f3a"
          ],
          [
           0.8888888888888888,
           "#fdca26"
          ],
          [
           1,
           "#f0f921"
          ]
         ]
        },
        "geo": {
         "center": {},
         "domain": {
          "x": [
           0,
           1
          ],
          "y": [
           0,
           1
          ]
         },
         "projection": {
          "type": "equirectangular"
         },
         "showcoastlines": false,
         "showframe": false
        },
        "height": 400,
        "legend": {
         "itemsizing": "constant",
         "tracegroupgap": 0
        },
        "margin": {
         "b": 0,
         "l": 0,
         "pad": 0,
         "r": 0,
         "t": 0
        },
        "template": {
         "data": {
          "bar": [
           {
            "error_x": {
             "color": "#2a3f5f"
            },
            "error_y": {
             "color": "#2a3f5f"
            },
            "marker": {
             "line": {
              "color": "#E5ECF6",
              "width": 0.5
             },
             "pattern": {
              "fillmode": "overlay",
              "size": 10,
              "solidity": 0.2
             }
            },
            "type": "bar"
           }
          ],
          "barpolar": [
           {
            "marker": {
             "line": {
              "color": "#E5ECF6",
              "width": 0.5
             },
             "pattern": {
              "fillmode": "overlay",
              "size": 10,
              "solidity": 0.2
             }
            },
            "type": "barpolar"
           }
          ],
          "carpet": [
           {
            "aaxis": {
             "endlinecolor": "#2a3f5f",
             "gridcolor": "white",
             "linecolor": "white",
             "minorgridcolor": "white",
             "startlinecolor": "#2a3f5f"
            },
            "baxis": {
             "endlinecolor": "#2a3f5f",
             "gridcolor": "white",
             "linecolor": "white",
             "minorgridcolor": "white",
             "startlinecolor": "#2a3f5f"
            },
            "type": "carpet"
           }
          ],
          "choropleth": [
           {
            "colorbar": {
             "outlinewidth": 0,
             "ticks": ""
            },
            "type": "choropleth"
           }
          ],
          "contour": [
           {
            "colorbar": {
             "outlinewidth": 0,
             "ticks": ""
            },
            "colorscale": [
             [
              0,
              "#0d0887"
             ],
             [
              0.1111111111111111,
              "#46039f"
             ],
             [
              0.2222222222222222,
              "#7201a8"
             ],
             [
              0.3333333333333333,
              "#9c179e"
             ],
             [
              0.4444444444444444,
              "#bd3786"
             ],
             [
              0.5555555555555556,
              "#d8576b"
             ],
             [
              0.6666666666666666,
              "#ed7953"
             ],
             [
              0.7777777777777778,
              "#fb9f3a"
             ],
             [
              0.8888888888888888,
              "#fdca26"
             ],
             [
              1,
              "#f0f921"
             ]
            ],
            "type": "contour"
           }
          ],
          "contourcarpet": [
           {
            "colorbar": {
             "outlinewidth": 0,
             "ticks": ""
            },
            "type": "contourcarpet"
           }
          ],
          "heatmap": [
           {
            "colorbar": {
             "outlinewidth": 0,
             "ticks": ""
            },
            "colorscale": [
             [
              0,
              "#0d0887"
             ],
             [
              0.1111111111111111,
              "#46039f"
             ],
             [
              0.2222222222222222,
              "#7201a8"
             ],
             [
              0.3333333333333333,
              "#9c179e"
             ],
             [
              0.4444444444444444,
              "#bd3786"
             ],
             [
              0.5555555555555556,
              "#d8576b"
             ],
             [
              0.6666666666666666,
              "#ed7953"
             ],
             [
              0.7777777777777778,
              "#fb9f3a"
             ],
             [
              0.8888888888888888,
              "#fdca26"
             ],
             [
              1,
              "#f0f921"
             ]
            ],
            "type": "heatmap"
           }
          ],
          "heatmapgl": [
           {
            "colorbar": {
             "outlinewidth": 0,
             "ticks": ""
            },
            "colorscale": [
             [
              0,
              "#0d0887"
             ],
             [
              0.1111111111111111,
              "#46039f"
             ],
             [
              0.2222222222222222,
              "#7201a8"
             ],
             [
              0.3333333333333333,
              "#9c179e"
             ],
             [
              0.4444444444444444,
              "#bd3786"
             ],
             [
              0.5555555555555556,
              "#d8576b"
             ],
             [
              0.6666666666666666,
              "#ed7953"
             ],
             [
              0.7777777777777778,
              "#fb9f3a"
             ],
             [
              0.8888888888888888,
              "#fdca26"
             ],
             [
              1,
              "#f0f921"
             ]
            ],
            "type": "heatmapgl"
           }
          ],
          "histogram": [
           {
            "marker": {
             "pattern": {
              "fillmode": "overlay",
              "size": 10,
              "solidity": 0.2
             }
            },
            "type": "histogram"
           }
          ],
          "histogram2d": [
           {
            "colorbar": {
             "outlinewidth": 0,
             "ticks": ""
            },
            "colorscale": [
             [
              0,
              "#0d0887"
             ],
             [
              0.1111111111111111,
              "#46039f"
             ],
             [
              0.2222222222222222,
              "#7201a8"
             ],
             [
              0.3333333333333333,
              "#9c179e"
             ],
             [
              0.4444444444444444,
              "#bd3786"
             ],
             [
              0.5555555555555556,
              "#d8576b"
             ],
             [
              0.6666666666666666,
              "#ed7953"
             ],
             [
              0.7777777777777778,
              "#fb9f3a"
             ],
             [
              0.8888888888888888,
              "#fdca26"
             ],
             [
              1,
              "#f0f921"
             ]
            ],
            "type": "histogram2d"
           }
          ],
          "histogram2dcontour": [
           {
            "colorbar": {
             "outlinewidth": 0,
             "ticks": ""
            },
            "colorscale": [
             [
              0,
              "#0d0887"
             ],
             [
              0.1111111111111111,
              "#46039f"
             ],
             [
              0.2222222222222222,
              "#7201a8"
             ],
             [
              0.3333333333333333,
              "#9c179e"
             ],
             [
              0.4444444444444444,
              "#bd3786"
             ],
             [
              0.5555555555555556,
              "#d8576b"
             ],
             [
              0.6666666666666666,
              "#ed7953"
             ],
             [
              0.7777777777777778,
              "#fb9f3a"
             ],
             [
              0.8888888888888888,
              "#fdca26"
             ],
             [
              1,
              "#f0f921"
             ]
            ],
            "type": "histogram2dcontour"
           }
          ],
          "mesh3d": [
           {
            "colorbar": {
             "outlinewidth": 0,
             "ticks": ""
            },
            "type": "mesh3d"
           }
          ],
          "parcoords": [
           {
            "line": {
             "colorbar": {
              "outlinewidth": 0,
              "ticks": ""
             }
            },
            "type": "parcoords"
           }
          ],
          "pie": [
           {
            "automargin": true,
            "type": "pie"
           }
          ],
          "scatter": [
           {
            "fillpattern": {
             "fillmode": "overlay",
             "size": 10,
             "solidity": 0.2
            },
            "type": "scatter"
           }
          ],
          "scatter3d": [
           {
            "line": {
             "colorbar": {
              "outlinewidth": 0,
              "ticks": ""
             }
            },
            "marker": {
             "colorbar": {
              "outlinewidth": 0,
              "ticks": ""
             }
            },
            "type": "scatter3d"
           }
          ],
          "scattercarpet": [
           {
            "marker": {
             "colorbar": {
              "outlinewidth": 0,
              "ticks": ""
             }
            },
            "type": "scattercarpet"
           }
          ],
          "scattergeo": [
           {
            "marker": {
             "colorbar": {
              "outlinewidth": 0,
              "ticks": ""
             }
            },
            "type": "scattergeo"
           }
          ],
          "scattergl": [
           {
            "marker": {
             "colorbar": {
              "outlinewidth": 0,
              "ticks": ""
             }
            },
            "type": "scattergl"
           }
          ],
          "scattermapbox": [
           {
            "marker": {
             "colorbar": {
              "outlinewidth": 0,
              "ticks": ""
             }
            },
            "type": "scattermapbox"
           }
          ],
          "scatterpolar": [
           {
            "marker": {
             "colorbar": {
              "outlinewidth": 0,
              "ticks": ""
             }
            },
            "type": "scatterpolar"
           }
          ],
          "scatterpolargl": [
           {
            "marker": {
             "colorbar": {
              "outlinewidth": 0,
              "ticks": ""
             }
            },
            "type": "scatterpolargl"
           }
          ],
          "scatterternary": [
           {
            "marker": {
             "colorbar": {
              "outlinewidth": 0,
              "ticks": ""
             }
            },
            "type": "scatterternary"
           }
          ],
          "surface": [
           {
            "colorbar": {
             "outlinewidth": 0,
             "ticks": ""
            },
            "colorscale": [
             [
              0,
              "#0d0887"
             ],
             [
              0.1111111111111111,
              "#46039f"
             ],
             [
              0.2222222222222222,
              "#7201a8"
             ],
             [
              0.3333333333333333,
              "#9c179e"
             ],
             [
              0.4444444444444444,
              "#bd3786"
             ],
             [
              0.5555555555555556,
              "#d8576b"
             ],
             [
              0.6666666666666666,
              "#ed7953"
             ],
             [
              0.7777777777777778,
              "#fb9f3a"
             ],
             [
              0.8888888888888888,
              "#fdca26"
             ],
             [
              1,
              "#f0f921"
             ]
            ],
            "type": "surface"
           }
          ],
          "table": [
           {
            "cells": {
             "fill": {
              "color": "#EBF0F8"
             },
             "line": {
              "color": "white"
             }
            },
            "header": {
             "fill": {
              "color": "#C8D4E3"
             },
             "line": {
              "color": "white"
             }
            },
            "type": "table"
           }
          ]
         },
         "layout": {
          "annotationdefaults": {
           "arrowcolor": "#2a3f5f",
           "arrowhead": 0,
           "arrowwidth": 1
          },
          "autotypenumbers": "strict",
          "coloraxis": {
           "colorbar": {
            "outlinewidth": 0,
            "ticks": ""
           }
          },
          "colorscale": {
           "diverging": [
            [
             0,
             "#8e0152"
            ],
            [
             0.1,
             "#c51b7d"
            ],
            [
             0.2,
             "#de77ae"
            ],
            [
             0.3,
             "#f1b6da"
            ],
            [
             0.4,
             "#fde0ef"
            ],
            [
             0.5,
             "#f7f7f7"
            ],
            [
             0.6,
             "#e6f5d0"
            ],
            [
             0.7,
             "#b8e186"
            ],
            [
             0.8,
             "#7fbc41"
            ],
            [
             0.9,
             "#4d9221"
            ],
            [
             1,
             "#276419"
            ]
           ],
           "sequential": [
            [
             0,
             "#0d0887"
            ],
            [
             0.1111111111111111,
             "#46039f"
            ],
            [
             0.2222222222222222,
             "#7201a8"
            ],
            [
             0.3333333333333333,
             "#9c179e"
            ],
            [
             0.4444444444444444,
             "#bd3786"
            ],
            [
             0.5555555555555556,
             "#d8576b"
            ],
            [
             0.6666666666666666,
             "#ed7953"
            ],
            [
             0.7777777777777778,
             "#fb9f3a"
            ],
            [
             0.8888888888888888,
             "#fdca26"
            ],
            [
             1,
             "#f0f921"
            ]
           ],
           "sequentialminus": [
            [
             0,
             "#0d0887"
            ],
            [
             0.1111111111111111,
             "#46039f"
            ],
            [
             0.2222222222222222,
             "#7201a8"
            ],
            [
             0.3333333333333333,
             "#9c179e"
            ],
            [
             0.4444444444444444,
             "#bd3786"
            ],
            [
             0.5555555555555556,
             "#d8576b"
            ],
            [
             0.6666666666666666,
             "#ed7953"
            ],
            [
             0.7777777777777778,
             "#fb9f3a"
            ],
            [
             0.8888888888888888,
             "#fdca26"
            ],
            [
             1,
             "#f0f921"
            ]
           ]
          },
          "colorway": [
           "#636efa",
           "#EF553B",
           "#00cc96",
           "#ab63fa",
           "#FFA15A",
           "#19d3f3",
           "#FF6692",
           "#B6E880",
           "#FF97FF",
           "#FECB52"
          ],
          "font": {
           "color": "#2a3f5f"
          },
          "geo": {
           "bgcolor": "white",
           "lakecolor": "white",
           "landcolor": "#E5ECF6",
           "showlakes": true,
           "showland": true,
           "subunitcolor": "white"
          },
          "hoverlabel": {
           "align": "left"
          },
          "hovermode": "closest",
          "mapbox": {
           "style": "light"
          },
          "paper_bgcolor": "white",
          "plot_bgcolor": "#E5ECF6",
          "polar": {
           "angularaxis": {
            "gridcolor": "white",
            "linecolor": "white",
            "ticks": ""
           },
           "bgcolor": "#E5ECF6",
           "radialaxis": {
            "gridcolor": "white",
            "linecolor": "white",
            "ticks": ""
           }
          },
          "scene": {
           "xaxis": {
            "backgroundcolor": "#E5ECF6",
            "gridcolor": "white",
            "gridwidth": 2,
            "linecolor": "white",
            "showbackground": true,
            "ticks": "",
            "zerolinecolor": "white"
           },
           "yaxis": {
            "backgroundcolor": "#E5ECF6",
            "gridcolor": "white",
            "gridwidth": 2,
            "linecolor": "white",
            "showbackground": true,
            "ticks": "",
            "zerolinecolor": "white"
           },
           "zaxis": {
            "backgroundcolor": "#E5ECF6",
            "gridcolor": "white",
            "gridwidth": 2,
            "linecolor": "white",
            "showbackground": true,
            "ticks": "",
            "zerolinecolor": "white"
           }
          },
          "shapedefaults": {
           "line": {
            "color": "#2a3f5f"
           }
          },
          "ternary": {
           "aaxis": {
            "gridcolor": "white",
            "linecolor": "white",
            "ticks": ""
           },
           "baxis": {
            "gridcolor": "white",
            "linecolor": "white",
            "ticks": ""
           },
           "bgcolor": "#E5ECF6",
           "caxis": {
            "gridcolor": "white",
            "linecolor": "white",
            "ticks": ""
           }
          },
          "title": {
           "x": 0.05
          },
          "xaxis": {
           "automargin": true,
           "gridcolor": "white",
           "linecolor": "white",
           "ticks": "",
           "title": {
            "standoff": 15
           },
           "zerolinecolor": "white",
           "zerolinewidth": 2
          },
          "yaxis": {
           "automargin": true,
           "gridcolor": "white",
           "linecolor": "white",
           "ticks": "",
           "title": {
            "standoff": 15
           },
           "zerolinecolor": "white",
           "zerolinewidth": 2
          }
         }
        },
        "title": {
         "text": "Medal Value"
        },
        "width": 800
       }
      }
     },
     "metadata": {},
     "output_type": "display_data"
    }
   ],
   "source": [
    "import plotly.express as px\n",
    "\n",
    "\n",
    "fig = px.scatter_geo(new_df, locations=\"Country_x\",\n",
    "                        color=\"Medal Value\", \n",
    "                        hover_name=\"Country_x\", \n",
    "                        size=\"Medal Value\",\n",
    "                        projection=\"natural earth\",\n",
    "                        color_continuous_scale=px.colors.sequential.Plasma)\n",
    "\n",
    "fig.update_layout(\n",
    "    title_text = 'Medal Value',\n",
    "    geo=dict(\n",
    "        showframe = False,\n",
    "        showcoastlines = False,\n",
    "        projection_type = 'equirectangular',\n",
    "    ),\n",
    "    width=800,\n",
    "    height=400,\n",
    "    autosize=False,\n",
    "    margin=dict(\n",
    "        l=0,\n",
    "        r=0,\n",
    "        b=0,\n",
    "        t=0,\n",
    "        pad=0\n",
    "\n",
    "    ),\n",
    "\n",
    ")\n",
    "fig.show()"
   ]
  },
  {
   "cell_type": "code",
   "execution_count": 90,
   "id": "0d65ce62",
   "metadata": {},
   "outputs": [
    {
     "data": {
      "image/png": "[encoded data removed]",
      "text/plain": [
       "<Figure size 1080x1080 with 1 Axes>"
      ]
     },
     "metadata": {
      "needs_background": "light"
     },
     "output_type": "display_data"
    }
   ],
   "source": [
    "\n",
    "from sklearn.preprocessing import StandardScaler\n",
    "scaler = StandardScaler()\n",
    "\n",
    "\n",
    "# create a new dataframe with the standardized data\n",
    "new_df = df_no_outliers[['Country_x', 'Medal Value', 'Medals per million', 'Happiness score']]\n",
    "\n",
    "\n",
    "# standardize the data\n",
    "new_df['Medal Value'] = scaler.fit_transform(new_df[['Medal Value']])\n",
    "new_df['Medals per million'] = scaler.fit_transform(new_df[['Medals per million']])\n",
    "new_df['Happiness score'] = scaler.fit_transform(new_df[['Happiness score']])\n",
    "\n",
    "\n",
    "new_df.boxplot(column=['Medal Value', 'Medals per million', 'Happiness score'], figsize=(15,15))\n",
    "plt.show()"
   ]
  }
 ],
 "metadata": {
  "kernelspec": {
   "display_name": "Python 3.10.9 ('data_wrangling')",
   "language": "python",
   "name": "python3"
  },
  "language_info": {
   "codemirror_mode": {
    "name": "ipython",
    "version": 3
   },
   "file_extension": ".py",
   "mimetype": "text/x-python",
   "name": "python",
   "nbconvert_exporter": "python",
   "pygments_lexer": "ipython3",
   "version": "3.10.9"
  },
  "vscode": {
   "interpreter": {
    "hash": "528b71aa69f898bae52a4d7955ee63bbcc6604ee352fbc467e9efb1f57089fa2"
   }
  }
 },
 "nbformat": 4,
 "nbformat_minor": 5
}
